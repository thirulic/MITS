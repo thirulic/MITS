{
  "nbformat": 4,
  "nbformat_minor": 0,
  "metadata": {
    "colab": {
      "provenance": [],
      "authorship_tag": "ABX9TyNgosGrC0YQLOqTHIQmcaFd",
      "include_colab_link": true
    },
    "kernelspec": {
      "name": "python3",
      "display_name": "Python 3"
    }
  },
  "cells": [
    {
      "cell_type": "markdown",
      "metadata": {
        "id": "view-in-github",
        "colab_type": "text"
      },
      "source": [
        "<a href=\"https://colab.research.google.com/github/thirulic/MITS/blob/main/2_Pandas.ipynb\" target=\"_parent\"><img src=\"https://colab.research.google.com/assets/colab-badge.svg\" alt=\"Open In Colab\"/></a>"
      ]
    },
    {
      "cell_type": "markdown",
      "metadata": {
        "id": "gcG9-YE8yYKM"
      },
      "source": [
        "# **Pandas**\n",
        "\n",
        "## **Descriptive Statistics**\n",
        "\n",
        "\n",
        "---\n",
        "\n",
        "\n",
        "A large number of methods collectively compute descriptive statistics and other related operations on DataFrame.\n",
        "\n",
        "Most of these are aggregations like sum(), mean(), but some of them, like sumsum(), produce an object of the same size.\n",
        "\n",
        "Generally speaking, these methods take an axis argument, just like ndarray.{sum, std, ...}, but the axis can be specified by name or integer\n",
        "\n",
        "**DataFrame − “index” (axis=0, default), “columns” (axis=1)**"
      ]
    },
    {
      "cell_type": "code",
      "metadata": {
        "id": "4RQKo032y1H7",
        "colab": {
          "base_uri": "https://localhost:8080/"
        },
        "outputId": "ce6e15bb-910b-4b9a-bc4d-7eab5bf5dece"
      },
      "source": [
        "import pandas as pd\n",
        "import numpy as np\n",
        "\n",
        "#Create a Dictionary of series\n",
        "d = {'Name':pd.Series(['Tom','James','Ricky','Vin','Steve','Smith','Jack',\n",
        "   'Lee','David','Gasper','Betina','Andres']),\n",
        "   'Age':pd.Series([25,26,25,23,30,29,23,34,40,30,51,46]),\n",
        "   'Rating':pd.Series([4.23,3.24,3.98,2.56,3.20,4.6,3.8,3.78,2.98,4.80,4.10,3.65])\n",
        "}\n",
        "\n",
        "#Create a DataFrame\n",
        "df = pd.DataFrame(d)\n",
        "print (df)"
      ],
      "execution_count": null,
      "outputs": [
        {
          "output_type": "stream",
          "name": "stdout",
          "text": [
            "      Name  Age  Rating\n",
            "0      Tom   25    4.23\n",
            "1    James   26    3.24\n",
            "2    Ricky   25    3.98\n",
            "3      Vin   23    2.56\n",
            "4    Steve   30    3.20\n",
            "5    Smith   29    4.60\n",
            "6     Jack   23    3.80\n",
            "7      Lee   34    3.78\n",
            "8    David   40    2.98\n",
            "9   Gasper   30    4.80\n",
            "10  Betina   51    4.10\n",
            "11  Andres   46    3.65\n"
          ]
        }
      ]
    },
    {
      "cell_type": "markdown",
      "metadata": {
        "id": "FgDMT5KUzBwL"
      },
      "source": [
        "### **sum()**\n",
        "\n",
        "Returns the sum of the values for the requested axis. By default, axis is index (axis=0)."
      ]
    },
    {
      "cell_type": "code",
      "metadata": {
        "id": "mCfefZunzGDZ",
        "colab": {
          "base_uri": "https://localhost:8080/"
        },
        "outputId": "0e0432e4-afaf-46b1-d6eb-836413446d10"
      },
      "source": [
        "print (df.sum())"
      ],
      "execution_count": null,
      "outputs": [
        {
          "output_type": "stream",
          "name": "stdout",
          "text": [
            "Name      TomJamesRickyVinSteveSmithJackLeeDavidGasperBe...\n",
            "Age                                                     382\n",
            "Rating                                                44.92\n",
            "dtype: object\n"
          ]
        }
      ]
    },
    {
      "cell_type": "markdown",
      "metadata": {
        "id": "AjyM3r4kzRQN"
      },
      "source": [
        "Each individual column is added individually (Strings are appended).\n",
        "\n",
        "### **axis=1**\n",
        "This syntax will give the output as shown below."
      ]
    },
    {
      "cell_type": "code",
      "metadata": {
        "id": "jbc4Dg1qzUuz",
        "colab": {
          "base_uri": "https://localhost:8080/"
        },
        "outputId": "e49f4b8a-fee4-4836-c6d5-6cfa6c041dbb"
      },
      "source": [
        "print (df.sum(1))"
      ],
      "execution_count": null,
      "outputs": [
        {
          "output_type": "stream",
          "name": "stdout",
          "text": [
            "0     29.23\n",
            "1     29.24\n",
            "2     28.98\n",
            "3     25.56\n",
            "4     33.20\n",
            "5     33.60\n",
            "6     26.80\n",
            "7     37.78\n",
            "8     42.98\n",
            "9     34.80\n",
            "10    55.10\n",
            "11    49.65\n",
            "dtype: float64\n"
          ]
        },
        {
          "output_type": "stream",
          "name": "stderr",
          "text": [
            "<ipython-input-3-33f9cbb56ff9>:1: FutureWarning: Dropping of nuisance columns in DataFrame reductions (with 'numeric_only=None') is deprecated; in a future version this will raise TypeError.  Select only valid columns before calling the reduction.\n",
            "  print (df.sum(1))\n"
          ]
        }
      ]
    },
    {
      "cell_type": "markdown",
      "metadata": {
        "id": "IaCylNnlzpHR"
      },
      "source": [
        "### **mean()**\n",
        "Returns the average value"
      ]
    },
    {
      "cell_type": "code",
      "metadata": {
        "id": "ElyWxTVKzsrj",
        "colab": {
          "base_uri": "https://localhost:8080/"
        },
        "outputId": "1ed739c9-35c0-462b-c3de-3020815c31f5"
      },
      "source": [
        "print (df.mean())"
      ],
      "execution_count": null,
      "outputs": [
        {
          "output_type": "stream",
          "name": "stdout",
          "text": [
            "Age       31.833333\n",
            "Rating     3.743333\n",
            "dtype: float64\n"
          ]
        },
        {
          "output_type": "stream",
          "name": "stderr",
          "text": [
            "<ipython-input-4-6577edf46a8e>:1: FutureWarning: Dropping of nuisance columns in DataFrame reductions (with 'numeric_only=None') is deprecated; in a future version this will raise TypeError.  Select only valid columns before calling the reduction.\n",
            "  print (df.mean())\n"
          ]
        }
      ]
    },
    {
      "cell_type": "markdown",
      "metadata": {
        "id": "FLZ93ZFTz7J9"
      },
      "source": [
        "### **std()**\n",
        "Returns the Bressel standard deviation of the numerical columns."
      ]
    },
    {
      "cell_type": "code",
      "metadata": {
        "id": "G216dpsaz9z7",
        "colab": {
          "base_uri": "https://localhost:8080/"
        },
        "outputId": "1a2fc535-9779-45ac-c6f7-d24988f052c5"
      },
      "source": [
        "print (df.std())"
      ],
      "execution_count": null,
      "outputs": [
        {
          "output_type": "stream",
          "name": "stdout",
          "text": [
            "Age       9.232682\n",
            "Rating    0.661628\n",
            "dtype: float64\n"
          ]
        },
        {
          "output_type": "stream",
          "name": "stderr",
          "text": [
            "<ipython-input-5-9d91f8c9ff12>:1: FutureWarning: Dropping of nuisance columns in DataFrame reductions (with 'numeric_only=None') is deprecated; in a future version this will raise TypeError.  Select only valid columns before calling the reduction.\n",
            "  print (df.std())\n"
          ]
        }
      ]
    },
    {
      "cell_type": "markdown",
      "metadata": {
        "id": "gfWgSUPS0IQm"
      },
      "source": [
        "### **Functions & Description**\n",
        "Let us now understand the functions under Descriptive Statistics in Python Pandas.\n",
        "\n",
        "The following table list down the important functions −\n",
        "\n",
        "Sr.No.\t| Function |\tDescription\n",
        ":---|:----|:----\n",
        "1 |\tcount() |\tNumber of non-null observations\n",
        "2 |\tsum() |\tSum of values\n",
        "3 |\tmean() |\tMean of Values\n",
        "4 |\tmedian() |\tMedian of Values\n",
        "5 |\tmode() |\tMode of values\n",
        "6 |\tstd() |\tStandard Deviation of the Values\n",
        "7 |\tmin() |\tMinimum Value\n",
        "8 |\tmax() |\tMaximum Value\n",
        "9 |\tabs() |\tAbsolute Value\n",
        "10 |\tprod() |\tProduct of Values\n",
        "11 |\tcumsum() |\tCumulative Sum\n",
        "12 |\tcumprod() |\tCumulative Product\n",
        "\n",
        "**Note** − Since DataFrame is a Heterogeneous data structure. Generic operations don’t work with all functions.\n",
        "\n",
        "Functions like **sum(), cumsum()** work with both numeric and character (or) string data elements without any error. Though **n** practice, character aggregations are never used generally, these functions do not throw any exception.\n",
        "\n",
        "Functions like a**bs(), cumprod()** throw exception when the DataFrame contains character or string data because such operations cannot be performed."
      ]
    },
    {
      "cell_type": "markdown",
      "metadata": {
        "id": "B5O-TRvP04_W"
      },
      "source": [
        "### **Summarizing Data**\n",
        "The describe() function computes a summary of statistics pertaining to the DataFrame columns."
      ]
    },
    {
      "cell_type": "code",
      "metadata": {
        "id": "jt7WeENX1AZi",
        "colab": {
          "base_uri": "https://localhost:8080/",
          "height": 582
        },
        "outputId": "5037f779-c05a-40de-d752-9bd76c4f6f3b"
      },
      "source": [
        "print (df.describe())\n",
        "\n",
        "df"
      ],
      "execution_count": null,
      "outputs": [
        {
          "output_type": "stream",
          "name": "stdout",
          "text": [
            "             Age     Rating\n",
            "count  12.000000  12.000000\n",
            "mean   31.833333   3.743333\n",
            "std     9.232682   0.661628\n",
            "min    23.000000   2.560000\n",
            "25%    25.000000   3.230000\n",
            "50%    29.500000   3.790000\n",
            "75%    35.500000   4.132500\n",
            "max    51.000000   4.800000\n"
          ]
        },
        {
          "output_type": "execute_result",
          "data": {
            "text/plain": [
              "      Name  Age  Rating\n",
              "0      Tom   25    4.23\n",
              "1    James   26    3.24\n",
              "2    Ricky   25    3.98\n",
              "3      Vin   23    2.56\n",
              "4    Steve   30    3.20\n",
              "5    Smith   29    4.60\n",
              "6     Jack   23    3.80\n",
              "7      Lee   34    3.78\n",
              "8    David   40    2.98\n",
              "9   Gasper   30    4.80\n",
              "10  Betina   51    4.10\n",
              "11  Andres   46    3.65"
            ],
            "text/html": [
              "\n",
              "  <div id=\"df-c96cd752-6c23-4d46-8e20-dd564d1dadba\">\n",
              "    <div class=\"colab-df-container\">\n",
              "      <div>\n",
              "<style scoped>\n",
              "    .dataframe tbody tr th:only-of-type {\n",
              "        vertical-align: middle;\n",
              "    }\n",
              "\n",
              "    .dataframe tbody tr th {\n",
              "        vertical-align: top;\n",
              "    }\n",
              "\n",
              "    .dataframe thead th {\n",
              "        text-align: right;\n",
              "    }\n",
              "</style>\n",
              "<table border=\"1\" class=\"dataframe\">\n",
              "  <thead>\n",
              "    <tr style=\"text-align: right;\">\n",
              "      <th></th>\n",
              "      <th>Name</th>\n",
              "      <th>Age</th>\n",
              "      <th>Rating</th>\n",
              "    </tr>\n",
              "  </thead>\n",
              "  <tbody>\n",
              "    <tr>\n",
              "      <th>0</th>\n",
              "      <td>Tom</td>\n",
              "      <td>25</td>\n",
              "      <td>4.23</td>\n",
              "    </tr>\n",
              "    <tr>\n",
              "      <th>1</th>\n",
              "      <td>James</td>\n",
              "      <td>26</td>\n",
              "      <td>3.24</td>\n",
              "    </tr>\n",
              "    <tr>\n",
              "      <th>2</th>\n",
              "      <td>Ricky</td>\n",
              "      <td>25</td>\n",
              "      <td>3.98</td>\n",
              "    </tr>\n",
              "    <tr>\n",
              "      <th>3</th>\n",
              "      <td>Vin</td>\n",
              "      <td>23</td>\n",
              "      <td>2.56</td>\n",
              "    </tr>\n",
              "    <tr>\n",
              "      <th>4</th>\n",
              "      <td>Steve</td>\n",
              "      <td>30</td>\n",
              "      <td>3.20</td>\n",
              "    </tr>\n",
              "    <tr>\n",
              "      <th>5</th>\n",
              "      <td>Smith</td>\n",
              "      <td>29</td>\n",
              "      <td>4.60</td>\n",
              "    </tr>\n",
              "    <tr>\n",
              "      <th>6</th>\n",
              "      <td>Jack</td>\n",
              "      <td>23</td>\n",
              "      <td>3.80</td>\n",
              "    </tr>\n",
              "    <tr>\n",
              "      <th>7</th>\n",
              "      <td>Lee</td>\n",
              "      <td>34</td>\n",
              "      <td>3.78</td>\n",
              "    </tr>\n",
              "    <tr>\n",
              "      <th>8</th>\n",
              "      <td>David</td>\n",
              "      <td>40</td>\n",
              "      <td>2.98</td>\n",
              "    </tr>\n",
              "    <tr>\n",
              "      <th>9</th>\n",
              "      <td>Gasper</td>\n",
              "      <td>30</td>\n",
              "      <td>4.80</td>\n",
              "    </tr>\n",
              "    <tr>\n",
              "      <th>10</th>\n",
              "      <td>Betina</td>\n",
              "      <td>51</td>\n",
              "      <td>4.10</td>\n",
              "    </tr>\n",
              "    <tr>\n",
              "      <th>11</th>\n",
              "      <td>Andres</td>\n",
              "      <td>46</td>\n",
              "      <td>3.65</td>\n",
              "    </tr>\n",
              "  </tbody>\n",
              "</table>\n",
              "</div>\n",
              "      <button class=\"colab-df-convert\" onclick=\"convertToInteractive('df-c96cd752-6c23-4d46-8e20-dd564d1dadba')\"\n",
              "              title=\"Convert this dataframe to an interactive table.\"\n",
              "              style=\"display:none;\">\n",
              "        \n",
              "  <svg xmlns=\"http://www.w3.org/2000/svg\" height=\"24px\"viewBox=\"0 0 24 24\"\n",
              "       width=\"24px\">\n",
              "    <path d=\"M0 0h24v24H0V0z\" fill=\"none\"/>\n",
              "    <path d=\"M18.56 5.44l.94 2.06.94-2.06 2.06-.94-2.06-.94-.94-2.06-.94 2.06-2.06.94zm-11 1L8.5 8.5l.94-2.06 2.06-.94-2.06-.94L8.5 2.5l-.94 2.06-2.06.94zm10 10l.94 2.06.94-2.06 2.06-.94-2.06-.94-.94-2.06-.94 2.06-2.06.94z\"/><path d=\"M17.41 7.96l-1.37-1.37c-.4-.4-.92-.59-1.43-.59-.52 0-1.04.2-1.43.59L10.3 9.45l-7.72 7.72c-.78.78-.78 2.05 0 2.83L4 21.41c.39.39.9.59 1.41.59.51 0 1.02-.2 1.41-.59l7.78-7.78 2.81-2.81c.8-.78.8-2.07 0-2.86zM5.41 20L4 18.59l7.72-7.72 1.47 1.35L5.41 20z\"/>\n",
              "  </svg>\n",
              "      </button>\n",
              "      \n",
              "  <style>\n",
              "    .colab-df-container {\n",
              "      display:flex;\n",
              "      flex-wrap:wrap;\n",
              "      gap: 12px;\n",
              "    }\n",
              "\n",
              "    .colab-df-convert {\n",
              "      background-color: #E8F0FE;\n",
              "      border: none;\n",
              "      border-radius: 50%;\n",
              "      cursor: pointer;\n",
              "      display: none;\n",
              "      fill: #1967D2;\n",
              "      height: 32px;\n",
              "      padding: 0 0 0 0;\n",
              "      width: 32px;\n",
              "    }\n",
              "\n",
              "    .colab-df-convert:hover {\n",
              "      background-color: #E2EBFA;\n",
              "      box-shadow: 0px 1px 2px rgba(60, 64, 67, 0.3), 0px 1px 3px 1px rgba(60, 64, 67, 0.15);\n",
              "      fill: #174EA6;\n",
              "    }\n",
              "\n",
              "    [theme=dark] .colab-df-convert {\n",
              "      background-color: #3B4455;\n",
              "      fill: #D2E3FC;\n",
              "    }\n",
              "\n",
              "    [theme=dark] .colab-df-convert:hover {\n",
              "      background-color: #434B5C;\n",
              "      box-shadow: 0px 1px 3px 1px rgba(0, 0, 0, 0.15);\n",
              "      filter: drop-shadow(0px 1px 2px rgba(0, 0, 0, 0.3));\n",
              "      fill: #FFFFFF;\n",
              "    }\n",
              "  </style>\n",
              "\n",
              "      <script>\n",
              "        const buttonEl =\n",
              "          document.querySelector('#df-c96cd752-6c23-4d46-8e20-dd564d1dadba button.colab-df-convert');\n",
              "        buttonEl.style.display =\n",
              "          google.colab.kernel.accessAllowed ? 'block' : 'none';\n",
              "\n",
              "        async function convertToInteractive(key) {\n",
              "          const element = document.querySelector('#df-c96cd752-6c23-4d46-8e20-dd564d1dadba');\n",
              "          const dataTable =\n",
              "            await google.colab.kernel.invokeFunction('convertToInteractive',\n",
              "                                                     [key], {});\n",
              "          if (!dataTable) return;\n",
              "\n",
              "          const docLinkHtml = 'Like what you see? Visit the ' +\n",
              "            '<a target=\"_blank\" href=https://colab.research.google.com/notebooks/data_table.ipynb>data table notebook</a>'\n",
              "            + ' to learn more about interactive tables.';\n",
              "          element.innerHTML = '';\n",
              "          dataTable['output_type'] = 'display_data';\n",
              "          await google.colab.output.renderOutput(dataTable, element);\n",
              "          const docLink = document.createElement('div');\n",
              "          docLink.innerHTML = docLinkHtml;\n",
              "          element.appendChild(docLink);\n",
              "        }\n",
              "      </script>\n",
              "    </div>\n",
              "  </div>\n",
              "  "
            ]
          },
          "metadata": {},
          "execution_count": 6
        }
      ]
    },
    {
      "cell_type": "markdown",
      "metadata": {
        "id": "YdlEBotu1HGm"
      },
      "source": [
        "This function gives the **mean**, **std** and **IQR** values.\n",
        "\n",
        "And, function excludes the character columns and given summary about numeric columns.\n",
        "\n",
        " **'include'** is the argument which is used to pass necessary information regarding what columns need to be considered for summarizing.\n",
        "\n",
        "Takes the list of values; by default, 'number'.\n",
        "\n",
        "* **object** − Summarizes String columns\n",
        "* **number** − Summarizes Numeric columns\n",
        "* all − Summarizes all columns together (Should not pass it as a list value)\n",
        "\n",
        "Now, use the following statement in the program and check the output −"
      ]
    },
    {
      "cell_type": "code",
      "metadata": {
        "id": "DLhltSkE1YAW",
        "colab": {
          "base_uri": "https://localhost:8080/"
        },
        "outputId": "c7350968-5cfd-4242-c698-9dac6d3e2ef7"
      },
      "source": [
        "print (df.describe(include=['object']))"
      ],
      "execution_count": null,
      "outputs": [
        {
          "output_type": "stream",
          "name": "stdout",
          "text": [
            "       Name\n",
            "count    12\n",
            "unique   12\n",
            "top     Tom\n",
            "freq      1\n"
          ]
        }
      ]
    },
    {
      "cell_type": "code",
      "metadata": {
        "id": "cjCloxwj1gAm",
        "colab": {
          "base_uri": "https://localhost:8080/"
        },
        "outputId": "3c36fa18-97b4-45cc-9b89-ceb227796f79"
      },
      "source": [
        "print (df. describe(include='all'))"
      ],
      "execution_count": null,
      "outputs": [
        {
          "output_type": "stream",
          "name": "stdout",
          "text": [
            "       Name        Age     Rating\n",
            "count    12  12.000000  12.000000\n",
            "unique   12        NaN        NaN\n",
            "top     Tom        NaN        NaN\n",
            "freq      1        NaN        NaN\n",
            "mean    NaN  31.833333   3.743333\n",
            "std     NaN   9.232682   0.661628\n",
            "min     NaN  23.000000   2.560000\n",
            "25%     NaN  25.000000   3.230000\n",
            "50%     NaN  29.500000   3.790000\n",
            "75%     NaN  35.500000   4.132500\n",
            "max     NaN  51.000000   4.800000\n"
          ]
        }
      ]
    },
    {
      "cell_type": "markdown",
      "metadata": {
        "id": "1rjPp5Ei2kyx"
      },
      "source": [
        "\n",
        "### **Reindexing**\n",
        "---\n",
        "Reindexing changes the row labels and column labels of a DataFrame. To reindex means to conform the data to match a given set of labels along a particular axis.\n",
        "\n",
        "Multiple operations can be accomplished through indexing like −\n",
        "\n",
        "* Reorder the existing data to match a new set of labels.\n",
        "\n",
        "* Insert missing value (NA) markers in label locations where no data for the label existed.\n"
      ]
    },
    {
      "cell_type": "code",
      "metadata": {
        "id": "gTew-KVU2xqO",
        "colab": {
          "base_uri": "https://localhost:8080/"
        },
        "outputId": "90c4b7d9-d48c-4fdc-a92f-cdeb86007e08"
      },
      "source": [
        "import pandas as pd\n",
        "import numpy as np\n",
        "\n",
        "N=20\n",
        "\n",
        "df = pd.DataFrame({\n",
        "   'A': pd.date_range(start='2016-01-01',periods=N,freq='D'),\n",
        "   'x': np.linspace(0,stop=N-1,num=N),\n",
        "   'y': np.random.rand(N),\n",
        "   'C': np.random.choice(['Low','Medium','High'],N).tolist(),\n",
        "   'D': np.random.normal(100, 10, size=(N)).tolist()\n",
        "})\n",
        "\n",
        "#reindex the DataFrame\n",
        "df_reindexed = df.reindex(index=[0,2,5], columns=['A', 'C', 'B'])\n",
        "print(df)\n",
        "\n",
        "print (df_reindexed)"
      ],
      "execution_count": null,
      "outputs": [
        {
          "output_type": "stream",
          "name": "stdout",
          "text": [
            "            A     x         y       C           D\n",
            "0  2016-01-01   0.0  0.843759    High   89.699849\n",
            "1  2016-01-02   1.0  0.468347    High  107.788372\n",
            "2  2016-01-03   2.0  0.360909     Low  116.950975\n",
            "3  2016-01-04   3.0  0.312041    High  104.625327\n",
            "4  2016-01-05   4.0  0.106096    High   96.329502\n",
            "5  2016-01-06   5.0  0.739368  Medium  109.080330\n",
            "6  2016-01-07   6.0  0.396572    High   88.553641\n",
            "7  2016-01-08   7.0  0.302865  Medium   88.802479\n",
            "8  2016-01-09   8.0  0.051768     Low  105.467648\n",
            "9  2016-01-10   9.0  0.734740  Medium   78.038182\n",
            "10 2016-01-11  10.0  0.483532     Low  120.027465\n",
            "11 2016-01-12  11.0  0.250930     Low  108.561152\n",
            "12 2016-01-13  12.0  0.357371    High  111.843244\n",
            "13 2016-01-14  13.0  0.766163  Medium   99.344108\n",
            "14 2016-01-15  14.0  0.364128  Medium   78.143370\n",
            "15 2016-01-16  15.0  0.628557     Low   85.480955\n",
            "16 2016-01-17  16.0  0.477830    High  107.241462\n",
            "17 2016-01-18  17.0  0.793013    High  114.384702\n",
            "18 2016-01-19  18.0  0.844157    High   99.444675\n",
            "19 2016-01-20  19.0  0.797372  Medium   92.904054\n",
            "           A       C   B\n",
            "0 2016-01-01    High NaN\n",
            "2 2016-01-03     Low NaN\n",
            "5 2016-01-06  Medium NaN\n"
          ]
        }
      ]
    },
    {
      "cell_type": "markdown",
      "metadata": {
        "id": "PCLrmTM624Me"
      },
      "source": [
        "**Reindex to Align with Other Objects**\n",
        "\n",
        "You may wish to take an object and reindex its axes to be labeled the same as another object. Consider the following example to understand the same."
      ]
    },
    {
      "cell_type": "code",
      "metadata": {
        "id": "aLGjm6JY29S6",
        "colab": {
          "base_uri": "https://localhost:8080/"
        },
        "outputId": "a4c3cf1c-7783-47c7-bcad-268c6a6cb68c"
      },
      "source": [
        "import pandas as pd\n",
        "import numpy as np\n",
        "\n",
        "df1 = pd.DataFrame(np.random.randn(10,3),columns=['col1','col2','col3'])\n",
        "df2 = pd.DataFrame(np.random.randn(7,3),columns=['col1','col2','col4'])\n",
        "print(\"Before Reindexing df1\")\n",
        "print(df1)\n",
        "\n",
        "df1 = df1.reindex_like(df2)\n",
        "print(\"After Reindexing df1\")\n",
        "print (df1)"
      ],
      "execution_count": null,
      "outputs": [
        {
          "output_type": "stream",
          "name": "stdout",
          "text": [
            "Before Reindexing df1\n",
            "       col1      col2      col3\n",
            "0 -0.354145 -1.193236  0.527299\n",
            "1 -0.568793  1.610894  1.188137\n",
            "2  0.124608 -0.109002 -0.464953\n",
            "3 -0.515936  0.324659  1.447538\n",
            "4  0.960810 -1.996009  0.136698\n",
            "5  0.276718  0.873039  0.138314\n",
            "6  0.750933  0.143609  0.255654\n",
            "7 -0.682009 -0.464398 -0.779172\n",
            "8 -1.147371  1.958456 -0.288252\n",
            "9  0.296785  1.520760  0.166512\n",
            "After Reindexing df1\n",
            "       col1      col2  col4\n",
            "0 -0.354145 -1.193236   NaN\n",
            "1 -0.568793  1.610894   NaN\n",
            "2  0.124608 -0.109002   NaN\n",
            "3 -0.515936  0.324659   NaN\n",
            "4  0.960810 -1.996009   NaN\n",
            "5  0.276718  0.873039   NaN\n",
            "6  0.750933  0.143609   NaN\n"
          ]
        }
      ]
    },
    {
      "cell_type": "markdown",
      "metadata": {
        "id": "TCcmACL43DhW"
      },
      "source": [
        "**Note −** Here, the df1 DataFrame is altered and reindexed like df2. The column names should be matched or else NAN will be added for the entire column label.\n",
        "\n",
        "**Filling while ReIndexing**\n",
        "\n",
        "**reindex()** takes an optional parameter method which is a filling method with values as follows −\n",
        "\n",
        "* pad/ffill − Fill values forward\n",
        "\n",
        "* bfill/backfill − Fill values backward\n",
        "\n",
        "* nearest − Fill from the nearest index values"
      ]
    },
    {
      "cell_type": "code",
      "metadata": {
        "id": "4RWnqIZN3P5s",
        "colab": {
          "base_uri": "https://localhost:8080/"
        },
        "outputId": "82dceae4-307f-4bd8-d767-b1fb1a7567f0"
      },
      "source": [
        "import pandas as pd\n",
        "import numpy as np\n",
        "\n",
        "df1 = pd.DataFrame(np.random.randn(6,3),columns=['col1','col2','col3'])\n",
        "df2 = pd.DataFrame(np.random.randn(2,3),columns=['col1','col2','col3'])\n",
        "\n",
        "# Padding NAN's\n",
        "print (df2.reindex_like(df1))\n",
        "\n",
        "# Now Fill the NAN's with preceding Values\n",
        "print (\"Data Frame with Forward Fill:\")\n",
        "print (df2.reindex_like(df1,method='ffill'))"
      ],
      "execution_count": null,
      "outputs": [
        {
          "output_type": "stream",
          "name": "stdout",
          "text": [
            "       col1      col2      col3\n",
            "0 -0.566298  0.740844  0.089665\n",
            "1 -0.308256  0.212300  1.648667\n",
            "2       NaN       NaN       NaN\n",
            "3       NaN       NaN       NaN\n",
            "4       NaN       NaN       NaN\n",
            "5       NaN       NaN       NaN\n",
            "Data Frame with Forward Fill:\n",
            "       col1      col2      col3\n",
            "0 -0.566298  0.740844  0.089665\n",
            "1 -0.308256  0.212300  1.648667\n",
            "2 -0.308256  0.212300  1.648667\n",
            "3 -0.308256  0.212300  1.648667\n",
            "4 -0.308256  0.212300  1.648667\n",
            "5 -0.308256  0.212300  1.648667\n"
          ]
        }
      ]
    },
    {
      "cell_type": "markdown",
      "metadata": {
        "id": "O0uRRY5Z3gV5"
      },
      "source": [
        "**Note** − The last four rows are padded.\n",
        "\n",
        "**Limits on Filling while Reindexing**\n",
        "\n",
        "The limit argument provides additional control over filling while reindexing. Limit specifies the maximum count of consecutive matches."
      ]
    },
    {
      "cell_type": "code",
      "metadata": {
        "id": "cNv_h3N23nka",
        "colab": {
          "base_uri": "https://localhost:8080/"
        },
        "outputId": "a6515f6d-d161-451b-a447-1da69138f1ed"
      },
      "source": [
        "import pandas as pd\n",
        "import numpy as np\n",
        "\n",
        "df1 = pd.DataFrame(np.random.randn(6,3),columns=['col1','col2','col3'])\n",
        "df2 = pd.DataFrame(np.random.randn(2,3),columns=['col1','col2','col3'])\n",
        "\n",
        "# Padding NAN's\n",
        "print (df2.reindex_like(df1))\n",
        "\n",
        "# Now Fill the NAN's with preceding Values\n",
        "print (\"Data Frame with Forward Fill limiting to 1:\")\n",
        "print (df2.reindex_like(df1,method='ffill',limit=1))"
      ],
      "execution_count": null,
      "outputs": [
        {
          "output_type": "stream",
          "name": "stdout",
          "text": [
            "       col1      col2      col3\n",
            "0 -0.406529  0.772392 -0.097523\n",
            "1  1.125189  0.012883 -0.081317\n",
            "2       NaN       NaN       NaN\n",
            "3       NaN       NaN       NaN\n",
            "4       NaN       NaN       NaN\n",
            "5       NaN       NaN       NaN\n",
            "Data Frame with Forward Fill limiting to 1:\n",
            "       col1      col2      col3\n",
            "0 -0.406529  0.772392 -0.097523\n",
            "1  1.125189  0.012883 -0.081317\n",
            "2  1.125189  0.012883 -0.081317\n",
            "3       NaN       NaN       NaN\n",
            "4       NaN       NaN       NaN\n",
            "5       NaN       NaN       NaN\n"
          ]
        }
      ]
    },
    {
      "cell_type": "markdown",
      "metadata": {
        "id": "Hdsvw-Da3xGG"
      },
      "source": [
        "**Note** − Observe, only the 7th row is filled by the preceding 6th row. Then, the rows are left as they are.\n",
        "\n",
        "**Renaming**\n",
        "\n",
        "The rename() method allows you to relabel an axis based on some mapping (a dict or Series) or an arbitrary function.\n",
        "\n"
      ]
    },
    {
      "cell_type": "code",
      "metadata": {
        "id": "6xDm1auC35VH",
        "colab": {
          "base_uri": "https://localhost:8080/"
        },
        "outputId": "378cc6e3-25a7-4f46-fdc3-3996a3cc8dc4"
      },
      "source": [
        "import pandas as pd\n",
        "import numpy as np\n",
        "\n",
        "df1 = pd.DataFrame(np.random.randn(6,3),columns=['col1','col2','col3'])\n",
        "print (df1)\n",
        "\n",
        "print (\"After renaming the rows and columns:\")\n",
        "print (df1.rename(columns={'col1' : 'c1', 'col2' : 'c2'},\n",
        "                  index = {0 : 'apple', 1 : 'banana', 2 : 'durian'}))"
      ],
      "execution_count": null,
      "outputs": [
        {
          "output_type": "stream",
          "name": "stdout",
          "text": [
            "       col1      col2      col3\n",
            "0 -0.467933  1.369009 -0.618125\n",
            "1  0.587232  2.086920 -2.270802\n",
            "2  0.681921  0.410481 -0.463405\n",
            "3  0.587320 -0.237360  0.597912\n",
            "4  1.517072 -1.129307 -1.500894\n",
            "5 -0.659626 -0.179212 -0.400080\n",
            "After renaming the rows and columns:\n",
            "              c1        c2      col3\n",
            "apple  -0.467933  1.369009 -0.618125\n",
            "banana  0.587232  2.086920 -2.270802\n",
            "durian  0.681921  0.410481 -0.463405\n",
            "3       0.587320 -0.237360  0.597912\n",
            "4       1.517072 -1.129307 -1.500894\n",
            "5      -0.659626 -0.179212 -0.400080\n"
          ]
        }
      ]
    },
    {
      "cell_type": "markdown",
      "metadata": {
        "id": "15-lxKBm4A8-"
      },
      "source": [
        "The rename() method provides an **inplace** named parameter, which by default is False and copies the underlying data. Pass inplace=True to rename the data in place."
      ]
    },
    {
      "cell_type": "markdown",
      "metadata": {
        "id": "qxUCB--V5Eis"
      },
      "source": [
        "## **Iteration**\n",
        "\n",
        "\n",
        "---\n",
        "\n",
        "The behavior of basic iteration over Pandas objects depends on the type.\n",
        "\n",
        "When iterating over a Series, it is regarded as array-like, and basic iteration produces the values.\n",
        "\n",
        "Other data structures, like DataFrame and Panel, follow the **dict-like** convention of iterating over the **keys** of the objects.\n",
        "\n",
        "In short, basic iteration (for i in object) produces −\n",
        "\n",
        "* Series − values\n",
        "\n",
        "* DataFrame − column labels\n",
        "\n",
        "* Panel − item labels\n",
        "\n",
        "**Iterating a DataFrame**\n",
        "\n",
        "Iterating a DataFrame gives column names."
      ]
    },
    {
      "cell_type": "code",
      "metadata": {
        "id": "uoMJiUfq4GM4",
        "colab": {
          "base_uri": "https://localhost:8080/"
        },
        "outputId": "4a405a6c-2712-4200-b326-e1c9a2357504"
      },
      "source": [
        "import pandas as pd\n",
        "import numpy as np\n",
        "\n",
        "N=20\n",
        "df = pd.DataFrame({\n",
        "   'A': pd.date_range(start='2016-01-01',periods=N,freq='D'),\n",
        "   'x': np.linspace(0,stop=N-1,num=N),\n",
        "   'y': np.random.rand(N),\n",
        "   'C': np.random.choice(['Low','Medium','High'],N).tolist(),\n",
        "   'D': np.random.normal(100, 10, size=(N)).tolist()\n",
        "   })\n",
        "#print(df)\n",
        "\n",
        "for x in df:\n",
        "   print (x) # Prints column names"
      ],
      "execution_count": null,
      "outputs": [
        {
          "output_type": "stream",
          "name": "stdout",
          "text": [
            "A\n",
            "x\n",
            "y\n",
            "C\n",
            "D\n"
          ]
        }
      ]
    },
    {
      "cell_type": "markdown",
      "metadata": {
        "id": "6HJy2H_b52lz"
      },
      "source": [
        "To iterate over the rows of the DataFrame, we can use the following functions −\n",
        "\n",
        "* **iteritems()** − to iterate over the (key,value) pairs\n",
        "\n",
        "* **iterrows()** − iterate over the rows as (index,series) pairs\n",
        "\n",
        "* **itertuples()** − iterate over the rows as namedtuples\n",
        "\n",
        "**iteritems()**\n",
        "\n",
        "Iterates over each column as key, value pair with label as key and column value as a Series object."
      ]
    },
    {
      "cell_type": "code",
      "metadata": {
        "id": "L4VAbIQn5-1-",
        "colab": {
          "base_uri": "https://localhost:8080/"
        },
        "outputId": "3f0866ed-c26a-4385-f1b2-a6b2b2c85cfa"
      },
      "source": [
        "import pandas as pd\n",
        "import numpy as np\n",
        "\n",
        "df = pd.DataFrame(np.random.randn(4,3),columns=['col1','col2','col3'])\n",
        "print(df)\n",
        "for key,value in df.iteritems():\n",
        "   print (key,value)"
      ],
      "execution_count": null,
      "outputs": [
        {
          "output_type": "stream",
          "name": "stdout",
          "text": [
            "       col1      col2      col3\n",
            "0  0.005716  0.633329  0.526654\n",
            "1  0.753071  0.840224 -1.433321\n",
            "2 -0.136884  2.009403  2.290619\n",
            "3 -0.513786  0.123284 -0.845278\n",
            "col1 0    0.005716\n",
            "1    0.753071\n",
            "2   -0.136884\n",
            "3   -0.513786\n",
            "Name: col1, dtype: float64\n",
            "col2 0    0.633329\n",
            "1    0.840224\n",
            "2    2.009403\n",
            "3    0.123284\n",
            "Name: col2, dtype: float64\n",
            "col3 0    0.526654\n",
            "1   -1.433321\n",
            "2    2.290619\n",
            "3   -0.845278\n",
            "Name: col3, dtype: float64\n"
          ]
        }
      ]
    },
    {
      "cell_type": "markdown",
      "metadata": {
        "id": "xa8HJqGzMo6H"
      },
      "source": [
        "Observe, each column is iterated separately as a key-value pair in a Series.\n",
        "\n",
        "**iterrows()**\n",
        "\n",
        "iterrows() returns the iterator yielding each index value along with a series containing the data in each row."
      ]
    },
    {
      "cell_type": "code",
      "metadata": {
        "id": "7KMUP7hhMr2f",
        "colab": {
          "base_uri": "https://localhost:8080/"
        },
        "outputId": "eee9c26d-9729-48b1-cf2c-049440c9f801"
      },
      "source": [
        "for row_index,row in df.iterrows():\n",
        "   print (row_index,row)"
      ],
      "execution_count": null,
      "outputs": [
        {
          "output_type": "stream",
          "name": "stdout",
          "text": [
            "0 col1    0.005716\n",
            "col2    0.633329\n",
            "col3    0.526654\n",
            "Name: 0, dtype: float64\n",
            "1 col1    0.753071\n",
            "col2    0.840224\n",
            "col3   -1.433321\n",
            "Name: 1, dtype: float64\n",
            "2 col1   -0.136884\n",
            "col2    2.009403\n",
            "col3    2.290619\n",
            "Name: 2, dtype: float64\n",
            "3 col1   -0.513786\n",
            "col2    0.123284\n",
            "col3   -0.845278\n",
            "Name: 3, dtype: float64\n"
          ]
        }
      ]
    },
    {
      "cell_type": "markdown",
      "metadata": {
        "id": "-Jo-u-ODM5LB"
      },
      "source": [
        "**Note** − Because iterrows() iterate over the rows, it doesn't preserve the data type across the row. 0,1,2 are the row indices and col1,col2,col3 are column indices.\n",
        "\n",
        "**itertuples()**\n",
        "\n",
        "itertuples() method will return an iterator yielding a named tuple for each row in the DataFrame. The first element of the tuple will be the row’s corresponding index value, while the remaining values are the row values."
      ]
    },
    {
      "cell_type": "code",
      "metadata": {
        "id": "OMuWgLcgM_lx",
        "colab": {
          "base_uri": "https://localhost:8080/"
        },
        "outputId": "0f92dc7b-fc13-4df0-a860-d19a38b927a7"
      },
      "source": [
        "for row in df.itertuples():\n",
        "    print (row)"
      ],
      "execution_count": null,
      "outputs": [
        {
          "output_type": "stream",
          "name": "stdout",
          "text": [
            "Pandas(Index=0, col1=0.0057161744943729316, col2=0.6333287173476583, col3=0.5266542074383391)\n",
            "Pandas(Index=1, col1=0.7530710931602502, col2=0.8402239525535197, col3=-1.4333213689958144)\n",
            "Pandas(Index=2, col1=-0.1368840878490012, col2=2.009403119408442, col3=2.2906189505200087)\n",
            "Pandas(Index=3, col1=-0.513786284644511, col2=0.12328436226028935, col3=-0.8452782974729589)\n"
          ]
        }
      ]
    },
    {
      "cell_type": "markdown",
      "metadata": {
        "id": "tkeOw95pNIYp"
      },
      "source": [
        "**Note** − Do not try to modify any object while iterating. Iterating is meant for reading and the iterator returns a copy of the original object (a view), thus the changes will not reflect on the original object."
      ]
    },
    {
      "cell_type": "code",
      "metadata": {
        "id": "iQqEsFjKNLwy",
        "colab": {
          "base_uri": "https://localhost:8080/"
        },
        "outputId": "102f3ea0-d237-4c12-ca53-c3d5fbec9aae"
      },
      "source": [
        "for index, row in df.iterrows():\n",
        "   row['1'] = 10\n",
        "print (df)"
      ],
      "execution_count": null,
      "outputs": [
        {
          "output_type": "stream",
          "name": "stdout",
          "text": [
            "       col1      col2      col3\n",
            "0  0.005716  0.633329  0.526654\n",
            "1  0.753071  0.840224 -1.433321\n",
            "2 -0.136884  2.009403  2.290619\n",
            "3 -0.513786  0.123284 -0.845278\n"
          ]
        }
      ]
    },
    {
      "cell_type": "markdown",
      "metadata": {
        "id": "0drs6l-ZNUk6"
      },
      "source": [
        "## **Sorting**\n",
        "\n",
        "\n",
        "---\n",
        "\n",
        "There are two kinds of sorting available in Pandas. They are −\n",
        "\n",
        "* By label\n",
        "* By Actual Value\n",
        "\n",
        "Let us consider an example with an output."
      ]
    },
    {
      "cell_type": "code",
      "metadata": {
        "id": "tjgl4XhbNghr",
        "colab": {
          "base_uri": "https://localhost:8080/"
        },
        "outputId": "9abf241c-3f27-4882-bc58-b8d260657dcb"
      },
      "source": [
        "unsorted_df=pd.DataFrame(np.random.randn(10,2),index=[1,4,6,2,3,5,9,8,0,7],columns=['col2','col1'])\n",
        "print (unsorted_df)"
      ],
      "execution_count": null,
      "outputs": [
        {
          "output_type": "stream",
          "name": "stdout",
          "text": [
            "       col2      col1\n",
            "1 -0.435306 -0.656975\n",
            "4  0.197501  0.645863\n",
            "6 -0.496208 -0.286021\n",
            "2 -1.555389 -1.562572\n",
            "3 -0.401880 -0.445248\n",
            "5 -0.285222 -0.371603\n",
            "9  0.534793  2.162167\n",
            "8  0.430972  0.033161\n",
            "0 -1.453078 -1.553234\n",
            "7  0.071072  1.267769\n"
          ]
        }
      ]
    },
    {
      "cell_type": "markdown",
      "metadata": {
        "id": "NfwbmQALNsKn"
      },
      "source": [
        "In unsorted_df, the labels and the values are unsorted. Let us see how these can be sorted.\n",
        "\n",
        "**By Label**\n",
        "\n",
        "Using the sort_index() method, by passing the axis arguments and the order of sorting, DataFrame can be sorted. By default, sorting is done on row labels in ascending order."
      ]
    },
    {
      "cell_type": "code",
      "metadata": {
        "id": "Zna59XasNwwf",
        "colab": {
          "base_uri": "https://localhost:8080/"
        },
        "outputId": "d5bfd9e4-ceb7-45a5-9146-50d8e6c2c97a"
      },
      "source": [
        "sorted_df=unsorted_df.sort_index()\n",
        "print (sorted_df)"
      ],
      "execution_count": null,
      "outputs": [
        {
          "output_type": "stream",
          "name": "stdout",
          "text": [
            "       col2      col1\n",
            "0 -1.453078 -1.553234\n",
            "1 -0.435306 -0.656975\n",
            "2 -1.555389 -1.562572\n",
            "3 -0.401880 -0.445248\n",
            "4  0.197501  0.645863\n",
            "5 -0.285222 -0.371603\n",
            "6 -0.496208 -0.286021\n",
            "7  0.071072  1.267769\n",
            "8  0.430972  0.033161\n",
            "9  0.534793  2.162167\n"
          ]
        }
      ]
    },
    {
      "cell_type": "markdown",
      "metadata": {
        "id": "g_gpCzG0N8Do"
      },
      "source": [
        "**Order of Sorting**\n",
        "\n",
        "By passing the Boolean value to ascending parameter, the order of the sorting can be controlled. Let us consider the following example to understand the same."
      ]
    },
    {
      "cell_type": "code",
      "metadata": {
        "id": "UJUVPsQ4N-0l",
        "colab": {
          "base_uri": "https://localhost:8080/"
        },
        "outputId": "687fa9c2-c399-49f2-adab-cebb1379f3b5"
      },
      "source": [
        "sorted_df = unsorted_df.sort_index(ascending=False)\n",
        "print (sorted_df)"
      ],
      "execution_count": null,
      "outputs": [
        {
          "output_type": "stream",
          "name": "stdout",
          "text": [
            "       col2      col1\n",
            "9  0.534793  2.162167\n",
            "8  0.430972  0.033161\n",
            "7  0.071072  1.267769\n",
            "6 -0.496208 -0.286021\n",
            "5 -0.285222 -0.371603\n",
            "4  0.197501  0.645863\n",
            "3 -0.401880 -0.445248\n",
            "2 -1.555389 -1.562572\n",
            "1 -0.435306 -0.656975\n",
            "0 -1.453078 -1.553234\n"
          ]
        }
      ]
    },
    {
      "cell_type": "markdown",
      "metadata": {
        "id": "F8iQySZos1TL"
      },
      "source": [
        "**Sort the Columns**\n",
        "\n",
        "By passing the axis argument with a value 0 or 1, the sorting can be done on the column labels. By default, axis=0, sort by row."
      ]
    },
    {
      "cell_type": "code",
      "metadata": {
        "id": "Pk_VP3dus6nE",
        "colab": {
          "base_uri": "https://localhost:8080/"
        },
        "outputId": "e7620a78-5dda-4ab0-bf96-d066fa5590a7"
      },
      "source": [
        "sorted_df=unsorted_df.sort_index(axis=1)\n",
        "\n",
        "print (sorted_df)"
      ],
      "execution_count": null,
      "outputs": [
        {
          "output_type": "stream",
          "name": "stdout",
          "text": [
            "       col1      col2\n",
            "1 -0.656975 -0.435306\n",
            "4  0.645863  0.197501\n",
            "6 -0.286021 -0.496208\n",
            "2 -1.562572 -1.555389\n",
            "3 -0.445248 -0.401880\n",
            "5 -0.371603 -0.285222\n",
            "9  2.162167  0.534793\n",
            "8  0.033161  0.430972\n",
            "0 -1.553234 -1.453078\n",
            "7  1.267769  0.071072\n"
          ]
        }
      ]
    },
    {
      "cell_type": "markdown",
      "metadata": {
        "id": "ZZFlOWDutP4A"
      },
      "source": [
        "**By Value**\n",
        "\n",
        "Like index sorting, **sort_values()** is the method for sorting by values.\n",
        "\n",
        "It accepts a '**by**' argument which will use the column name of the DataFrame with which the values are to be sorted."
      ]
    },
    {
      "cell_type": "code",
      "metadata": {
        "id": "ehSKuw3WtWWv",
        "colab": {
          "base_uri": "https://localhost:8080/"
        },
        "outputId": "e7a316b2-c0ec-43da-bd38-ff774a7fe127"
      },
      "source": [
        "unsorted_df = pd.DataFrame({'col1':[2,1,1,1],'col2':[1,3,2,4]})\n",
        "sorted_df = unsorted_df.sort_values(by='col1')\n",
        "\n",
        "print (sorted_df)"
      ],
      "execution_count": null,
      "outputs": [
        {
          "output_type": "stream",
          "name": "stdout",
          "text": [
            "   col1  col2\n",
            "1     1     3\n",
            "2     1     2\n",
            "3     1     4\n",
            "0     2     1\n"
          ]
        }
      ]
    },
    {
      "cell_type": "markdown",
      "metadata": {
        "id": "L107tnzStn1q"
      },
      "source": [
        "Observe, **col1** values are sorted and the respective **col2** value and row index will alter along with col1. Thus, they look unsorted.\n",
        "\n",
        "'**by**' argument takes a list of column values."
      ]
    },
    {
      "cell_type": "code",
      "metadata": {
        "id": "RDLAVS-AtsE9",
        "colab": {
          "base_uri": "https://localhost:8080/"
        },
        "outputId": "04d7c4f3-98d8-4775-c425-24ac459ef766"
      },
      "source": [
        "sorted_df = unsorted_df.sort_values(by=['col1','col2'])\n",
        "\n",
        "print (sorted_df)"
      ],
      "execution_count": null,
      "outputs": [
        {
          "output_type": "stream",
          "name": "stdout",
          "text": [
            "   col1  col2\n",
            "2     1     2\n",
            "1     1     3\n",
            "3     1     4\n",
            "0     2     1\n"
          ]
        }
      ]
    },
    {
      "cell_type": "markdown",
      "metadata": {
        "id": "sQM04lOMt0_A"
      },
      "source": [
        "**Sorting Algorithm**\n",
        "\n",
        "sort_values() provides a provision to choose the algorithm from mergesort, heapsort and quicksort.\n",
        "\n",
        "Mergesort is the only stable algorithm."
      ]
    },
    {
      "cell_type": "code",
      "metadata": {
        "id": "gKRotD8bt6dd",
        "colab": {
          "base_uri": "https://localhost:8080/"
        },
        "outputId": "a3e3cd22-3904-451e-c043-37366c5152e1"
      },
      "source": [
        "unsorted_df = pd.DataFrame({'col1':[2,1,1,1],'col2':[1,3,2,4]})\n",
        "sorted_df = unsorted_df.sort_values(by='col1' ,kind='mergesort')\n",
        "\n",
        "print (sorted_df)"
      ],
      "execution_count": null,
      "outputs": [
        {
          "output_type": "stream",
          "name": "stdout",
          "text": [
            "   col1  col2\n",
            "1     1     3\n",
            "2     1     2\n",
            "3     1     4\n",
            "0     2     1\n"
          ]
        }
      ]
    },
    {
      "cell_type": "markdown",
      "metadata": {
        "id": "kDC6uMQsuHqk"
      },
      "source": [
        "### **Working with Text Data**\n",
        "\n",
        "---\n",
        "\n",
        "Pandas provides a set of string functions which make it easy to operate on string data.\n",
        "\n",
        "Most importantly, these functions ignore (or exclude) missing/NaN values.\n",
        "\n",
        "Almost, all of these methods work with Python string functions (refer: https://docs.python.org/3/library/stdtypes.html#string-methods).\n",
        "\n",
        "So, convert the Series Object to String Object and then perform the operation."
      ]
    },
    {
      "cell_type": "markdown",
      "metadata": {
        "id": "TDZ9hcwxupCH"
      },
      "source": [
        "Sr.No\t| Function |  Description\n",
        ":------|:------|:------\n",
        "1\t\t| lower()\t| Converts strings in the Series/Index to lower case.\n",
        "2\t| upper()| Converts strings in the Series/Index to upper case.\n",
        "3\t| len()| Computes String length().\n",
        "4\t| strip()| Helps strip whitespace(including newline) from each string in the Series/index from both the sides.\n",
        "5\t| split(' ')| Splits each string with the given pattern.\n",
        "6\t| cat(sep=' ')| Concatenates the series/index elements with given separator.\n",
        "7\t| get_dummies()| Returns the DataFrame with One-Hot Encoded values.\n",
        "8\t| contains(pattern)| Returns a Boolean value True for each element if the substring contains in the element, else False.\n",
        "9\t| replace(a,b)| Replaces the value a with the value b.\n",
        "10\t| repeat(value)| Repeats each element with specified number of times.\n",
        "11\t| count(pattern)| Returns count of appearance of pattern in each element.\n",
        "12\t| startswith(pattern)| Returns true if the element in the Series/Index starts with the pattern.\n",
        "13\t| endswith(pattern)| Returns true if the element in the Series/Index ends with the pattern.\n",
        "14\t| find(pattern)| Returns the first position of the first occurrence of the pattern.\n",
        "15\t| findall(pattern)| Returns a list of all occurrence of the pattern.\n",
        "16\t| swapcase| Swaps the case lower/upper.\n",
        "17\t| islower()| Checks whether all characters in each string in the Series/Index in lower case or not. Returns Boolean\n",
        "18\t| isupper()| Checks whether all characters in each string in the Series/Index in upper case or not. Returns Boolean.\n",
        "19\t| isnumeric()| Checks whether all characters in each string in the Series/Index are numeric. Returns Boolean.\n",
        "\n",
        "Let us now create a Series and see how all the above functions work."
      ]
    },
    {
      "cell_type": "code",
      "metadata": {
        "id": "TA_q7e9-vgF2",
        "colab": {
          "base_uri": "https://localhost:8080/"
        },
        "outputId": "2f1c5c3f-a2e0-4deb-941f-068bb115d0ba"
      },
      "source": [
        "s = pd.Series(['Tom', 'William Rick', 'John', 'Alber@t', np.nan, '1234','SteveSmith'])\n",
        "\n",
        "print (s)"
      ],
      "execution_count": null,
      "outputs": [
        {
          "output_type": "stream",
          "name": "stdout",
          "text": [
            "0             Tom\n",
            "1    William Rick\n",
            "2            John\n",
            "3         Alber@t\n",
            "4             NaN\n",
            "5            1234\n",
            "6      SteveSmith\n",
            "dtype: object\n"
          ]
        }
      ]
    },
    {
      "cell_type": "markdown",
      "metadata": {
        "id": "IyoUDQSH0DXm"
      },
      "source": [
        "**lower()**"
      ]
    },
    {
      "cell_type": "code",
      "metadata": {
        "id": "M2bEToQo0BSL",
        "colab": {
          "base_uri": "https://localhost:8080/"
        },
        "outputId": "5d8a5333-100f-43cf-c044-70e9f76dafac"
      },
      "source": [
        "print (s.str.lower())"
      ],
      "execution_count": null,
      "outputs": [
        {
          "output_type": "stream",
          "name": "stdout",
          "text": [
            "0             tom\n",
            "1    william rick\n",
            "2            john\n",
            "3         alber@t\n",
            "4             NaN\n",
            "5            1234\n",
            "6      stevesmith\n",
            "dtype: object\n"
          ]
        }
      ]
    },
    {
      "cell_type": "markdown",
      "metadata": {
        "id": "mdn_ckaL0KXe"
      },
      "source": [
        "**upper()**"
      ]
    },
    {
      "cell_type": "code",
      "metadata": {
        "id": "dSmi7-vT0Lly",
        "colab": {
          "base_uri": "https://localhost:8080/"
        },
        "outputId": "979e7d6b-974d-4145-c79e-915e8123f177"
      },
      "source": [
        "print (s.str.upper())"
      ],
      "execution_count": null,
      "outputs": [
        {
          "output_type": "stream",
          "name": "stdout",
          "text": [
            "0             TOM\n",
            "1    WILLIAM RICK\n",
            "2            JOHN\n",
            "3         ALBER@T\n",
            "4             NaN\n",
            "5            1234\n",
            "6      STEVESMITH\n",
            "dtype: object\n"
          ]
        }
      ]
    },
    {
      "cell_type": "markdown",
      "metadata": {
        "id": "wUWZPk7B0SP8"
      },
      "source": [
        "**len()**"
      ]
    },
    {
      "cell_type": "code",
      "metadata": {
        "id": "SqjIhHqz0T0Y",
        "colab": {
          "base_uri": "https://localhost:8080/"
        },
        "outputId": "fcfb6142-edd1-4c05-e70d-67196dca7250"
      },
      "source": [
        "print (s.str.len())"
      ],
      "execution_count": null,
      "outputs": [
        {
          "output_type": "stream",
          "name": "stdout",
          "text": [
            "0     3.0\n",
            "1    12.0\n",
            "2     4.0\n",
            "3     7.0\n",
            "4     NaN\n",
            "5     4.0\n",
            "6    10.0\n",
            "dtype: float64\n"
          ]
        }
      ]
    },
    {
      "cell_type": "markdown",
      "metadata": {
        "id": "tGDyPCJi0e3t"
      },
      "source": [
        "#**Exercises**"
      ]
    },
    {
      "cell_type": "markdown",
      "metadata": {
        "id": "mG5YiLy_2Ejg"
      },
      "source": [
        "1. **Write a Python program to add, subtract, multiple and divide two Pandas Series.**\n",
        "\n",
        "Sample Series: [2, 4, 6, 8, 10], [1, 3, 5, 7, 9]"
      ]
    },
    {
      "cell_type": "code",
      "metadata": {
        "id": "D4OUC-xd2Q0v"
      },
      "source": [],
      "execution_count": null,
      "outputs": []
    },
    {
      "cell_type": "markdown",
      "metadata": {
        "id": "9-umwkRG2RSg"
      },
      "source": [
        "2. **Write a Pandas program to sort a given Series.**\n",
        "\n",
        "*Sample Output:*\n",
        "\n",
        "Original Data Series:\n",
        "0 100\n",
        "\n",
        "1 200\n",
        "\n",
        "2 python\n",
        "\n",
        "3 300.12\n",
        "\n",
        "4 400\n",
        "\n",
        "Output Data Series:\n",
        "\n",
        "0 100\n",
        "\n",
        "1 200\n",
        "\n",
        "3 300.12\n",
        "\n",
        "4 400\n",
        "\n",
        "2 python\n"
      ]
    },
    {
      "cell_type": "code",
      "metadata": {
        "id": "MQrFbKY621qm"
      },
      "source": [],
      "execution_count": null,
      "outputs": []
    },
    {
      "cell_type": "markdown",
      "metadata": {
        "id": "l5KwLZrj226y"
      },
      "source": [
        "3. **Write a Pandas program to compute the minimum, 25th percentile, median, 75th, and maximum of a given series.**"
      ]
    },
    {
      "cell_type": "code",
      "metadata": {
        "id": "cyZztLro3ESP"
      },
      "source": [],
      "execution_count": null,
      "outputs": []
    },
    {
      "cell_type": "markdown",
      "metadata": {
        "id": "PLTfRK043EvS"
      },
      "source": [
        "4.  **Write a Pandas program to find the positions of numbers that are multiples of 5 of a given series.**"
      ]
    },
    {
      "cell_type": "code",
      "metadata": {
        "id": "Z1iOKCsD3hG0"
      },
      "source": [],
      "execution_count": null,
      "outputs": []
    },
    {
      "cell_type": "markdown",
      "metadata": {
        "id": "Oihkq7jT3hlf"
      },
      "source": [
        "5. **Write a Pandas program to display a summary of the basic information about a specified DataFrame and its data.**\n",
        "\n",
        "*Sample Python dictionary data and list labels:*\n",
        "\n",
        "exam_data = {'name': ['Anastasia', 'Dima', 'Katherine', 'James', 'Emily', 'Michael', 'Matthew', 'Laura', 'Kevin', 'Jonas'],\n",
        "'score': [12.5, 9, 16.5, np.nan, 9, 20, 14.5, np.nan, 8, 19],\n",
        "'attempts': [1, 3, 2, 3, 2, 3, 1, 1, 2, 1],\n",
        "'qualify': ['yes', 'no', 'yes', 'no', 'no', 'yes', 'yes', 'no', 'no', 'yes']}\n",
        "labels = ['a', 'b', 'c', 'd', 'e', 'f', 'g', 'h', 'i', 'j']"
      ]
    },
    {
      "cell_type": "code",
      "metadata": {
        "id": "G7A1EtkF3zVW"
      },
      "source": [],
      "execution_count": null,
      "outputs": []
    },
    {
      "cell_type": "markdown",
      "metadata": {
        "id": "nFmRb2WB3zzh"
      },
      "source": [
        "6. **Write a Pandas program to convert all the string values to upper, lower cases in a given pandas series. Also find the length of the string values.**"
      ]
    },
    {
      "cell_type": "code",
      "metadata": {
        "id": "UjFG27-e4Bl1"
      },
      "source": [],
      "execution_count": null,
      "outputs": []
    },
    {
      "cell_type": "markdown",
      "metadata": {
        "id": "ACbbZmJ24B5y"
      },
      "source": [
        "7. **Write a Pandas program to check whether only numeric values present in a given column of a DataFrame.**"
      ]
    },
    {
      "cell_type": "code",
      "metadata": {
        "id": "kfRNseOu4S60"
      },
      "source": [],
      "execution_count": null,
      "outputs": []
    }
  ]
}