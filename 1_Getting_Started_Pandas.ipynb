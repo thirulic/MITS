{
  "nbformat": 4,
  "nbformat_minor": 0,
  "metadata": {
    "kernelspec": {
      "display_name": "Python 3",
      "language": "python",
      "name": "python3"
    },
    "language_info": {
      "codemirror_mode": {
        "name": "ipython",
        "version": 3
      },
      "file_extension": ".py",
      "mimetype": "text/x-python",
      "name": "python",
      "nbconvert_exporter": "python",
      "pygments_lexer": "ipython3",
      "version": "3.7.7"
    },
    "colab": {
      "provenance": [],
      "include_colab_link": true
    }
  },
  "cells": [
    {
      "cell_type": "markdown",
      "metadata": {
        "id": "view-in-github",
        "colab_type": "text"
      },
      "source": [
        "<a href=\"https://colab.research.google.com/github/thirulic/MITS/blob/main/1_Getting_Started_Pandas.ipynb\" target=\"_parent\"><img src=\"https://colab.research.google.com/assets/colab-badge.svg\" alt=\"Open In Colab\"/></a>"
      ]
    },
    {
      "cell_type": "markdown",
      "metadata": {
        "id": "QRioonC_AY80"
      },
      "source": [
        "# What is pandas-python? Introduction and Installation"
      ]
    },
    {
      "cell_type": "markdown",
      "metadata": {
        "id": "SEziRG8AAY82"
      },
      "source": [
        "Pandas is python module that makes data science easy and effective"
      ]
    },
    {
      "cell_type": "markdown",
      "metadata": {
        "id": "jZLWA6nr2EUa"
      },
      "source": [
        "## Installation"
      ]
    },
    {
      "cell_type": "markdown",
      "metadata": {
        "id": "Tpi5RWBn2EUb"
      },
      "source": [
        "pip install pandas"
      ]
    },
    {
      "cell_type": "markdown",
      "metadata": {
        "id": "pVUpe6qJ2EUc"
      },
      "source": [
        "## Motivation"
      ]
    },
    {
      "cell_type": "markdown",
      "metadata": {
        "id": "oTkONmMLAY84"
      },
      "source": [
        "Weather dataset"
      ]
    },
    {
      "cell_type": "markdown",
      "metadata": {
        "id": "Eq_8Q-1KAY85"
      },
      "source": [
        "Questions?\n",
        "\n",
        "1. What was the maximum temparature in new york in the month of january?\n",
        "\n",
        "2. On which days did it rains?\n",
        "\n",
        "3. What was the average speed of wind during the month?\n"
      ]
    },
    {
      "cell_type": "code",
      "metadata": {
        "id": "AqA1-xHnAY89"
      },
      "source": [
        "import pandas as pd"
      ],
      "execution_count": null,
      "outputs": []
    },
    {
      "cell_type": "code",
      "metadata": {
        "id": "D6MCYGSu2e0u",
        "colab": {
          "base_uri": "https://localhost:8080/"
        },
        "outputId": "b1c90772-06cb-4aa4-dd17-09c7cf0f837b"
      },
      "source": [
        "from google.colab import drive\n",
        "drive.mount('/content/drive')"
      ],
      "execution_count": null,
      "outputs": [
        {
          "output_type": "stream",
          "name": "stdout",
          "text": [
            "Mounted at /content/drive\n"
          ]
        }
      ]
    },
    {
      "cell_type": "code",
      "metadata": {
        "id": "rkE55aNO2EUm"
      },
      "source": [
        "df = pd.read_csv(\"/content/drive/My Drive/data/nyc_weather.csv\")"
      ],
      "execution_count": null,
      "outputs": []
    },
    {
      "cell_type": "code",
      "metadata": {
        "id": "Ba_YJrpB2EUr",
        "colab": {
          "base_uri": "https://localhost:8080/",
          "height": 243
        },
        "outputId": "6a83a353-db56-4efa-e1b3-d8cd4dd72c3d"
      },
      "source": [
        "df.head()"
      ],
      "execution_count": null,
      "outputs": [
        {
          "output_type": "execute_result",
          "data": {
            "text/plain": [
              "        EST  Temperature  DewPoint  Humidity  Sea Level PressureIn  \\\n",
              "0  1/1/2016           38        23        52                 30.03   \n",
              "1  1/2/2016           36        18        46                 30.02   \n",
              "2  1/3/2016           40        21        47                 29.86   \n",
              "3  1/4/2016           25         9        44                 30.05   \n",
              "4  1/5/2016           20        -3        41                 30.57   \n",
              "\n",
              "   VisibilityMiles  WindSpeedMPH PrecipitationIn  CloudCover Events  \\\n",
              "0               10           8.0               0           5    NaN   \n",
              "1               10           7.0               0           3    NaN   \n",
              "2               10           8.0               0           1    NaN   \n",
              "3               10           9.0               0           3    NaN   \n",
              "4               10           5.0               0           0    NaN   \n",
              "\n",
              "   WindDirDegrees  \n",
              "0             281  \n",
              "1             275  \n",
              "2             277  \n",
              "3             345  \n",
              "4             333  "
            ],
            "text/html": [
              "\n",
              "  <div id=\"df-2fa7ee20-aa22-4430-847a-cfd85177ac14\" class=\"colab-df-container\">\n",
              "    <div>\n",
              "<style scoped>\n",
              "    .dataframe tbody tr th:only-of-type {\n",
              "        vertical-align: middle;\n",
              "    }\n",
              "\n",
              "    .dataframe tbody tr th {\n",
              "        vertical-align: top;\n",
              "    }\n",
              "\n",
              "    .dataframe thead th {\n",
              "        text-align: right;\n",
              "    }\n",
              "</style>\n",
              "<table border=\"1\" class=\"dataframe\">\n",
              "  <thead>\n",
              "    <tr style=\"text-align: right;\">\n",
              "      <th></th>\n",
              "      <th>EST</th>\n",
              "      <th>Temperature</th>\n",
              "      <th>DewPoint</th>\n",
              "      <th>Humidity</th>\n",
              "      <th>Sea Level PressureIn</th>\n",
              "      <th>VisibilityMiles</th>\n",
              "      <th>WindSpeedMPH</th>\n",
              "      <th>PrecipitationIn</th>\n",
              "      <th>CloudCover</th>\n",
              "      <th>Events</th>\n",
              "      <th>WindDirDegrees</th>\n",
              "    </tr>\n",
              "  </thead>\n",
              "  <tbody>\n",
              "    <tr>\n",
              "      <th>0</th>\n",
              "      <td>1/1/2016</td>\n",
              "      <td>38</td>\n",
              "      <td>23</td>\n",
              "      <td>52</td>\n",
              "      <td>30.03</td>\n",
              "      <td>10</td>\n",
              "      <td>8.0</td>\n",
              "      <td>0</td>\n",
              "      <td>5</td>\n",
              "      <td>NaN</td>\n",
              "      <td>281</td>\n",
              "    </tr>\n",
              "    <tr>\n",
              "      <th>1</th>\n",
              "      <td>1/2/2016</td>\n",
              "      <td>36</td>\n",
              "      <td>18</td>\n",
              "      <td>46</td>\n",
              "      <td>30.02</td>\n",
              "      <td>10</td>\n",
              "      <td>7.0</td>\n",
              "      <td>0</td>\n",
              "      <td>3</td>\n",
              "      <td>NaN</td>\n",
              "      <td>275</td>\n",
              "    </tr>\n",
              "    <tr>\n",
              "      <th>2</th>\n",
              "      <td>1/3/2016</td>\n",
              "      <td>40</td>\n",
              "      <td>21</td>\n",
              "      <td>47</td>\n",
              "      <td>29.86</td>\n",
              "      <td>10</td>\n",
              "      <td>8.0</td>\n",
              "      <td>0</td>\n",
              "      <td>1</td>\n",
              "      <td>NaN</td>\n",
              "      <td>277</td>\n",
              "    </tr>\n",
              "    <tr>\n",
              "      <th>3</th>\n",
              "      <td>1/4/2016</td>\n",
              "      <td>25</td>\n",
              "      <td>9</td>\n",
              "      <td>44</td>\n",
              "      <td>30.05</td>\n",
              "      <td>10</td>\n",
              "      <td>9.0</td>\n",
              "      <td>0</td>\n",
              "      <td>3</td>\n",
              "      <td>NaN</td>\n",
              "      <td>345</td>\n",
              "    </tr>\n",
              "    <tr>\n",
              "      <th>4</th>\n",
              "      <td>1/5/2016</td>\n",
              "      <td>20</td>\n",
              "      <td>-3</td>\n",
              "      <td>41</td>\n",
              "      <td>30.57</td>\n",
              "      <td>10</td>\n",
              "      <td>5.0</td>\n",
              "      <td>0</td>\n",
              "      <td>0</td>\n",
              "      <td>NaN</td>\n",
              "      <td>333</td>\n",
              "    </tr>\n",
              "  </tbody>\n",
              "</table>\n",
              "</div>\n",
              "    <div class=\"colab-df-buttons\">\n",
              "\n",
              "  <div class=\"colab-df-container\">\n",
              "    <button class=\"colab-df-convert\" onclick=\"convertToInteractive('df-2fa7ee20-aa22-4430-847a-cfd85177ac14')\"\n",
              "            title=\"Convert this dataframe to an interactive table.\"\n",
              "            style=\"display:none;\">\n",
              "\n",
              "  <svg xmlns=\"http://www.w3.org/2000/svg\" height=\"24px\" viewBox=\"0 -960 960 960\">\n",
              "    <path d=\"M120-120v-720h720v720H120Zm60-500h600v-160H180v160Zm220 220h160v-160H400v160Zm0 220h160v-160H400v160ZM180-400h160v-160H180v160Zm440 0h160v-160H620v160ZM180-180h160v-160H180v160Zm440 0h160v-160H620v160Z\"/>\n",
              "  </svg>\n",
              "    </button>\n",
              "\n",
              "  <style>\n",
              "    .colab-df-container {\n",
              "      display:flex;\n",
              "      gap: 12px;\n",
              "    }\n",
              "\n",
              "    .colab-df-convert {\n",
              "      background-color: #E8F0FE;\n",
              "      border: none;\n",
              "      border-radius: 50%;\n",
              "      cursor: pointer;\n",
              "      display: none;\n",
              "      fill: #1967D2;\n",
              "      height: 32px;\n",
              "      padding: 0 0 0 0;\n",
              "      width: 32px;\n",
              "    }\n",
              "\n",
              "    .colab-df-convert:hover {\n",
              "      background-color: #E2EBFA;\n",
              "      box-shadow: 0px 1px 2px rgba(60, 64, 67, 0.3), 0px 1px 3px 1px rgba(60, 64, 67, 0.15);\n",
              "      fill: #174EA6;\n",
              "    }\n",
              "\n",
              "    .colab-df-buttons div {\n",
              "      margin-bottom: 4px;\n",
              "    }\n",
              "\n",
              "    [theme=dark] .colab-df-convert {\n",
              "      background-color: #3B4455;\n",
              "      fill: #D2E3FC;\n",
              "    }\n",
              "\n",
              "    [theme=dark] .colab-df-convert:hover {\n",
              "      background-color: #434B5C;\n",
              "      box-shadow: 0px 1px 3px 1px rgba(0, 0, 0, 0.15);\n",
              "      filter: drop-shadow(0px 1px 2px rgba(0, 0, 0, 0.3));\n",
              "      fill: #FFFFFF;\n",
              "    }\n",
              "  </style>\n",
              "\n",
              "    <script>\n",
              "      const buttonEl =\n",
              "        document.querySelector('#df-2fa7ee20-aa22-4430-847a-cfd85177ac14 button.colab-df-convert');\n",
              "      buttonEl.style.display =\n",
              "        google.colab.kernel.accessAllowed ? 'block' : 'none';\n",
              "\n",
              "      async function convertToInteractive(key) {\n",
              "        const element = document.querySelector('#df-2fa7ee20-aa22-4430-847a-cfd85177ac14');\n",
              "        const dataTable =\n",
              "          await google.colab.kernel.invokeFunction('convertToInteractive',\n",
              "                                                    [key], {});\n",
              "        if (!dataTable) return;\n",
              "\n",
              "        const docLinkHtml = 'Like what you see? Visit the ' +\n",
              "          '<a target=\"_blank\" href=https://colab.research.google.com/notebooks/data_table.ipynb>data table notebook</a>'\n",
              "          + ' to learn more about interactive tables.';\n",
              "        element.innerHTML = '';\n",
              "        dataTable['output_type'] = 'display_data';\n",
              "        await google.colab.output.renderOutput(dataTable, element);\n",
              "        const docLink = document.createElement('div');\n",
              "        docLink.innerHTML = docLinkHtml;\n",
              "        element.appendChild(docLink);\n",
              "      }\n",
              "    </script>\n",
              "  </div>\n",
              "\n",
              "\n",
              "<div id=\"df-2e9a73f9-20b2-4cd2-8010-e395f8d788bb\">\n",
              "  <button class=\"colab-df-quickchart\" onclick=\"quickchart('df-2e9a73f9-20b2-4cd2-8010-e395f8d788bb')\"\n",
              "            title=\"Suggest charts\"\n",
              "            style=\"display:none;\">\n",
              "\n",
              "<svg xmlns=\"http://www.w3.org/2000/svg\" height=\"24px\"viewBox=\"0 0 24 24\"\n",
              "     width=\"24px\">\n",
              "    <g>\n",
              "        <path d=\"M19 3H5c-1.1 0-2 .9-2 2v14c0 1.1.9 2 2 2h14c1.1 0 2-.9 2-2V5c0-1.1-.9-2-2-2zM9 17H7v-7h2v7zm4 0h-2V7h2v10zm4 0h-2v-4h2v4z\"/>\n",
              "    </g>\n",
              "</svg>\n",
              "  </button>\n",
              "\n",
              "<style>\n",
              "  .colab-df-quickchart {\n",
              "      --bg-color: #E8F0FE;\n",
              "      --fill-color: #1967D2;\n",
              "      --hover-bg-color: #E2EBFA;\n",
              "      --hover-fill-color: #174EA6;\n",
              "      --disabled-fill-color: #AAA;\n",
              "      --disabled-bg-color: #DDD;\n",
              "  }\n",
              "\n",
              "  [theme=dark] .colab-df-quickchart {\n",
              "      --bg-color: #3B4455;\n",
              "      --fill-color: #D2E3FC;\n",
              "      --hover-bg-color: #434B5C;\n",
              "      --hover-fill-color: #FFFFFF;\n",
              "      --disabled-bg-color: #3B4455;\n",
              "      --disabled-fill-color: #666;\n",
              "  }\n",
              "\n",
              "  .colab-df-quickchart {\n",
              "    background-color: var(--bg-color);\n",
              "    border: none;\n",
              "    border-radius: 50%;\n",
              "    cursor: pointer;\n",
              "    display: none;\n",
              "    fill: var(--fill-color);\n",
              "    height: 32px;\n",
              "    padding: 0;\n",
              "    width: 32px;\n",
              "  }\n",
              "\n",
              "  .colab-df-quickchart:hover {\n",
              "    background-color: var(--hover-bg-color);\n",
              "    box-shadow: 0 1px 2px rgba(60, 64, 67, 0.3), 0 1px 3px 1px rgba(60, 64, 67, 0.15);\n",
              "    fill: var(--button-hover-fill-color);\n",
              "  }\n",
              "\n",
              "  .colab-df-quickchart-complete:disabled,\n",
              "  .colab-df-quickchart-complete:disabled:hover {\n",
              "    background-color: var(--disabled-bg-color);\n",
              "    fill: var(--disabled-fill-color);\n",
              "    box-shadow: none;\n",
              "  }\n",
              "\n",
              "  .colab-df-spinner {\n",
              "    border: 2px solid var(--fill-color);\n",
              "    border-color: transparent;\n",
              "    border-bottom-color: var(--fill-color);\n",
              "    animation:\n",
              "      spin 1s steps(1) infinite;\n",
              "  }\n",
              "\n",
              "  @keyframes spin {\n",
              "    0% {\n",
              "      border-color: transparent;\n",
              "      border-bottom-color: var(--fill-color);\n",
              "      border-left-color: var(--fill-color);\n",
              "    }\n",
              "    20% {\n",
              "      border-color: transparent;\n",
              "      border-left-color: var(--fill-color);\n",
              "      border-top-color: var(--fill-color);\n",
              "    }\n",
              "    30% {\n",
              "      border-color: transparent;\n",
              "      border-left-color: var(--fill-color);\n",
              "      border-top-color: var(--fill-color);\n",
              "      border-right-color: var(--fill-color);\n",
              "    }\n",
              "    40% {\n",
              "      border-color: transparent;\n",
              "      border-right-color: var(--fill-color);\n",
              "      border-top-color: var(--fill-color);\n",
              "    }\n",
              "    60% {\n",
              "      border-color: transparent;\n",
              "      border-right-color: var(--fill-color);\n",
              "    }\n",
              "    80% {\n",
              "      border-color: transparent;\n",
              "      border-right-color: var(--fill-color);\n",
              "      border-bottom-color: var(--fill-color);\n",
              "    }\n",
              "    90% {\n",
              "      border-color: transparent;\n",
              "      border-bottom-color: var(--fill-color);\n",
              "    }\n",
              "  }\n",
              "</style>\n",
              "\n",
              "  <script>\n",
              "    async function quickchart(key) {\n",
              "      const quickchartButtonEl =\n",
              "        document.querySelector('#' + key + ' button');\n",
              "      quickchartButtonEl.disabled = true;  // To prevent multiple clicks.\n",
              "      quickchartButtonEl.classList.add('colab-df-spinner');\n",
              "      try {\n",
              "        const charts = await google.colab.kernel.invokeFunction(\n",
              "            'suggestCharts', [key], {});\n",
              "      } catch (error) {\n",
              "        console.error('Error during call to suggestCharts:', error);\n",
              "      }\n",
              "      quickchartButtonEl.classList.remove('colab-df-spinner');\n",
              "      quickchartButtonEl.classList.add('colab-df-quickchart-complete');\n",
              "    }\n",
              "    (() => {\n",
              "      let quickchartButtonEl =\n",
              "        document.querySelector('#df-2e9a73f9-20b2-4cd2-8010-e395f8d788bb button');\n",
              "      quickchartButtonEl.style.display =\n",
              "        google.colab.kernel.accessAllowed ? 'block' : 'none';\n",
              "    })();\n",
              "  </script>\n",
              "</div>\n",
              "\n",
              "    </div>\n",
              "  </div>\n"
            ],
            "application/vnd.google.colaboratory.intrinsic+json": {
              "type": "dataframe",
              "variable_name": "df",
              "summary": "{\n  \"name\": \"df\",\n  \"rows\": 31,\n  \"fields\": [\n    {\n      \"column\": \"EST\",\n      \"properties\": {\n        \"dtype\": \"object\",\n        \"num_unique_values\": 31,\n        \"samples\": [\n          \"1/28/2016\",\n          \"1/16/2016\",\n          \"1/24/2016\"\n        ],\n        \"semantic_type\": \"\",\n        \"description\": \"\"\n      }\n    },\n    {\n      \"column\": \"Temperature\",\n      \"properties\": {\n        \"dtype\": \"number\",\n        \"std\": 7,\n        \"min\": 20,\n        \"max\": 50,\n        \"num_unique_values\": 22,\n        \"samples\": [\n          38,\n          47,\n          50\n        ],\n        \"semantic_type\": \"\",\n        \"description\": \"\"\n      }\n    },\n    {\n      \"column\": \"DewPoint\",\n      \"properties\": {\n        \"dtype\": \"number\",\n        \"std\": 11,\n        \"min\": -3,\n        \"max\": 46,\n        \"num_unique_values\": 21,\n        \"samples\": [\n          23,\n          22,\n          6\n        ],\n        \"semantic_type\": \"\",\n        \"description\": \"\"\n      }\n    },\n    {\n      \"column\": \"Humidity\",\n      \"properties\": {\n        \"dtype\": \"number\",\n        \"std\": 11,\n        \"min\": 33,\n        \"max\": 78,\n        \"num_unique_values\": 23,\n        \"samples\": [\n          66,\n          71,\n          52\n        ],\n        \"semantic_type\": \"\",\n        \"description\": \"\"\n      }\n    },\n    {\n      \"column\": \"Sea Level PressureIn\",\n      \"properties\": {\n        \"dtype\": \"number\",\n        \"std\": 0.23723678113349272,\n        \"min\": 29.52,\n        \"max\": 30.57,\n        \"num_unique_values\": 26,\n        \"samples\": [\n          30.16,\n          29.78,\n          30.03\n        ],\n        \"semantic_type\": \"\",\n        \"description\": \"\"\n      }\n    },\n    {\n      \"column\": \"VisibilityMiles\",\n      \"properties\": {\n        \"dtype\": \"number\",\n        \"std\": 1,\n        \"min\": 1,\n        \"max\": 10,\n        \"num_unique_values\": 5,\n        \"samples\": [\n          9,\n          1,\n          4\n        ],\n        \"semantic_type\": \"\",\n        \"description\": \"\"\n      }\n    },\n    {\n      \"column\": \"WindSpeedMPH\",\n      \"properties\": {\n        \"dtype\": \"number\",\n        \"std\": 2.871820763445118,\n        \"min\": 2.0,\n        \"max\": 16.0,\n        \"num_unique_values\": 12,\n        \"samples\": [\n          16.0,\n          11.0,\n          8.0\n        ],\n        \"semantic_type\": \"\",\n        \"description\": \"\"\n      }\n    },\n    {\n      \"column\": \"PrecipitationIn\",\n      \"properties\": {\n        \"dtype\": \"category\",\n        \"num_unique_values\": 7,\n        \"samples\": [\n          \"0\",\n          \"T\",\n          \"0.01\"\n        ],\n        \"semantic_type\": \"\",\n        \"description\": \"\"\n      }\n    },\n    {\n      \"column\": \"CloudCover\",\n      \"properties\": {\n        \"dtype\": \"number\",\n        \"std\": 2,\n        \"min\": 0,\n        \"max\": 8,\n        \"num_unique_values\": 9,\n        \"samples\": [\n          2,\n          3,\n          7\n        ],\n        \"semantic_type\": \"\",\n        \"description\": \"\"\n      }\n    },\n    {\n      \"column\": \"Events\",\n      \"properties\": {\n        \"dtype\": \"category\",\n        \"num_unique_values\": 3,\n        \"samples\": [\n          \"Rain\",\n          \"Fog-Snow\",\n          \"Snow\"\n        ],\n        \"semantic_type\": \"\",\n        \"description\": \"\"\n      }\n    },\n    {\n      \"column\": \"WindDirDegrees\",\n      \"properties\": {\n        \"dtype\": \"number\",\n        \"std\": 92,\n        \"min\": 34,\n        \"max\": 345,\n        \"num_unique_values\": 28,\n        \"samples\": [\n          109,\n          298,\n          76\n        ],\n        \"semantic_type\": \"\",\n        \"description\": \"\"\n      }\n    }\n  ]\n}"
            }
          },
          "metadata": {},
          "execution_count": 4
        }
      ]
    },
    {
      "cell_type": "markdown",
      "metadata": {
        "id": "8f8YIszX2EUz"
      },
      "source": [
        "### 1. Using Pandas"
      ]
    },
    {
      "cell_type": "code",
      "metadata": {
        "id": "isDyPNqgAY9I",
        "colab": {
          "base_uri": "https://localhost:8080/"
        },
        "outputId": "26ff5beb-b69b-4d8d-98cd-f91bcb90bf37"
      },
      "source": [
        "#get the maximum temparature\n",
        "df['Temperature'].max()"
      ],
      "execution_count": null,
      "outputs": [
        {
          "output_type": "execute_result",
          "data": {
            "text/plain": [
              "50"
            ]
          },
          "metadata": {},
          "execution_count": 5
        }
      ]
    },
    {
      "cell_type": "code",
      "metadata": {
        "id": "llmFsslTAY9O",
        "colab": {
          "base_uri": "https://localhost:8080/"
        },
        "outputId": "92cae773-4cba-4871-d618-6d6e5ab3b7df"
      },
      "source": [
        "#to know which day it rains\n",
        "df['EST'][df['Events'] == 'Rain']"
      ],
      "execution_count": null,
      "outputs": [
        {
          "output_type": "execute_result",
          "data": {
            "text/plain": [
              "8      1/9/2016\n",
              "9     1/10/2016\n",
              "15    1/16/2016\n",
              "26    1/27/2016\n",
              "Name: EST, dtype: object"
            ]
          },
          "metadata": {},
          "execution_count": 6
        }
      ]
    },
    {
      "cell_type": "code",
      "metadata": {
        "id": "Fw7XqmXYAY9T",
        "colab": {
          "base_uri": "https://localhost:8080/"
        },
        "outputId": "a6ad98d2-34ad-4cf6-d612-df72795ff8e8"
      },
      "source": [
        "#3. average wind speed\n",
        "df['WindSpeedMPH'].mean()"
      ],
      "execution_count": null,
      "outputs": [
        {
          "output_type": "execute_result",
          "data": {
            "text/plain": [
              "6.892857142857143"
            ]
          },
          "metadata": {},
          "execution_count": 7
        }
      ]
    },
    {
      "cell_type": "markdown",
      "metadata": {
        "id": "-Puk7LqL2EVN"
      },
      "source": [
        "### 2. Without Using Pandas"
      ]
    },
    {
      "cell_type": "code",
      "metadata": {
        "id": "tJmfcXwB2EVP",
        "colab": {
          "base_uri": "https://localhost:8080/"
        },
        "outputId": "7f62d60f-fcab-4465-93e5-5bc870c2ef26"
      },
      "source": [
        "_parsed_rows = []\n",
        "\n",
        "def parse_csv():\n",
        "    import csv\n",
        "    _file_path = \"/content/drive/My Drive/data/nyc_weather.csv\"\n",
        "\n",
        "    global _parsed_rows\n",
        "    with open(_file_path, \"r\") as f:\n",
        "        reader = csv.reader(f, delimiter=',')\n",
        "        next(reader)\n",
        "        for row in reader:\n",
        "            _parsed_rows.append({\n",
        "                'date':  row[0],\n",
        "                'temperature': row[1],\n",
        "                'DewPoint': row[2],\n",
        "                'Humidity': row[3],\n",
        "                'Sea_Level_PressureIn': row[4],\n",
        "                'VisibilityMiles': row[5],\n",
        "                'WindSpeedMPH': row[6],\n",
        "                'PrecipitationIn': row[7],\n",
        "                'CloudCover': row[8],\n",
        "                'Events': row[9],\n",
        "                'WindDirDegrees': row[10]\n",
        "            })\n",
        "\n",
        "def get_max_temperature():\n",
        "    max_temp = 0\n",
        "    for row in _parsed_rows:\n",
        "        if int(row['temperature']) > max_temp:\n",
        "            max_temp = int(row['temperature'])\n",
        "    return max_temp\n",
        "\n",
        "def get_days_of_rain(event):\n",
        "    days = []\n",
        "    for row in _parsed_rows:\n",
        "        if row['Events'] == event:\n",
        "            days.append(row['date'])\n",
        "    return days\n",
        "\n",
        "def get_avg_wind_speed():\n",
        "    total = 0\n",
        "    count = 0\n",
        "    for row in _parsed_rows:\n",
        "        speed = 0 if row['WindSpeedMPH']=='' else int(row['WindSpeedMPH'])\n",
        "        total += speed\n",
        "        count += 1\n",
        "    return float(total/count)\n",
        "\n",
        "if __name__ == '__main__':\n",
        "    parse_csv()\n",
        "\n",
        "    print(\"Max Temperature is : \" + str(get_max_temperature()))\n",
        "    print(\"Days of rain : \" + str(get_days_of_rain('Rain')))\n",
        "    print(\"Average wind speed is : \" + str(get_avg_wind_speed()))"
      ],
      "execution_count": null,
      "outputs": [
        {
          "output_type": "stream",
          "name": "stdout",
          "text": [
            "Max Temperature is : 50\n",
            "Days of rain : ['1/9/2016', '1/10/2016', '1/16/2016', '1/27/2016']\n",
            "Average wind speed is : 6.225806451612903\n"
          ]
        }
      ]
    },
    {
      "cell_type": "markdown",
      "metadata": {
        "id": "bd-eUKUe52kY"
      },
      "source": [
        "# Pandas deals with the following three data structures −\n",
        "\n",
        "1. Series\n",
        "2. DataFrame\n",
        "3. Panel\n",
        "\n",
        "These data structures are built on top of Numpy array, which means they are fast.\n",
        "\n",
        "\n",
        "## Dimension & Description\n",
        "\n",
        "The best way to think of these data structures is that the higher dimensional data structure is a container of its lower dimensional data structure.\n",
        "\n",
        "For example,\n",
        "* DataFrame is a container of Series,\n",
        "* Panel is a container of DataFrame.\n",
        "\n",
        "Data Structure|\tDimensions|\tDescription\n",
        ":-----------|:------------- |:-------------\n",
        "Series |\t1\t| 1D labeled homogeneous array, sizeimmutable.\n",
        "Data Frames\t| 2\t| General 2D labeled, size-mutable tabular structure with potentially heterogeneously typed columns.\n",
        "Panel\t| 3\t| General 3D labeled, size-mutable array.\n",
        "\n",
        "\n",
        "* Building and handling two or more dimensional arrays is a tedious task, burden is placed on the user to consider the orientation of the data set when writing functions.\n",
        "\n",
        "* But using Pandas data structures, the mental effort of the user is reduced.\n",
        "\n",
        "* **For example**, with tabular data (DataFrame) it is more semantically helpful to think of the index (the rows) and the columns rather than axis 0 and axis 1.\n",
        "\n",
        "\n",
        "## Mutability\n",
        "* All Pandas data structures are value mutable (can be changed) and except Series all are size mutable. Series is size immutable.\n",
        "\n",
        "* **Note** − DataFrame is widely used and one of the most important data structures. Panel is used much less.\n",
        "\n",
        "### Series\n",
        "Series is a one-dimensional array like structure with homogeneous data.\n",
        "\n",
        "For example, the following series is a collection of integers 10, 23, 56, …\n",
        "\n",
        "\n",
        "10 |\t23 |\t56 | \t17| \t52 |\t61 |\t73 |\t90 |\t26 | \t72\n",
        ":---|:--- |:---|:--- |:---|:--- |:---|:--- |:---|:---\n",
        "\n",
        "**Key Points**\n",
        "* Homogeneous data\n",
        "* Size Immutable\n",
        "* Values of Data Mutable\n",
        "\n",
        "\n",
        "### DataFrame\n",
        "DataFrame is a two-dimensional array with heterogeneous data. For example,\n",
        "\n",
        "Name | \tAge\t| Gender |\tRating\n",
        ":---|:--- |:---|:---\n",
        "Steve\t| 32 | \tMale\t| 3.45\n",
        "Lia\t| 28 |\tFemale |\t4.6\n",
        "Vin\t| 45 |\tMale\t| 3.9\n",
        "Katie\t| 38\t| Female |\t2.78\n",
        "\n",
        "* The table represents the data of a sales team of an organization with their overall performance rating. The data is represented in rows and columns.\n",
        "\n",
        "* Each column represents an attribute and each row represents a person.\n",
        "\n",
        "**Data Type of Columns**\n",
        "The data types of the four columns are as follows −\n",
        "\n",
        "Column |\tType\n",
        ":---|:---\n",
        "Name\t| String\n",
        "Age\t| Integer\n",
        "Gender |\tString\n",
        "Rating |\tFloat\n",
        "\n",
        "**Key Points**\n",
        "\n",
        "* Heterogeneous data\n",
        "* Size Mutable\n",
        "* Data Mutable\n",
        "\n",
        "### Panel\n",
        "\n",
        "Panel is a three-dimensional data structure with heterogeneous data.\n",
        "\n",
        "It is hard to represent the panel in graphical representation.\n",
        "\n",
        "But a panel can be illustrated as a container of DataFrame.\n",
        "\n",
        "**Key Points**\n",
        "* Heterogeneous data\n",
        "* Size Mutable\n",
        "* Data Mutable"
      ]
    },
    {
      "cell_type": "markdown",
      "metadata": {
        "id": "hHqKhOrm9uvB"
      },
      "source": [
        "# Series\n",
        "Series is a one-dimensional labeled array capable of holding data of any type (integer, string, float, python objects, etc.).\n",
        "\n",
        "The axis labels are collectively called index.\n",
        "\n",
        "## pandas.Series\n",
        "A pandas Series can be created using the following constructor −\n",
        "\n",
        "pandas.Series( data, index, dtype, copy)\n",
        "\n",
        "\n",
        "The parameters of the constructor are as follows −\n",
        "\n",
        "Sr.No\t| Parameter & Description\n",
        ":------- | :-------\n",
        "1\t| **data**\n",
        "  | data takes various forms like ndarray, list, constants\n",
        "2\t| **index**\n",
        "  | Index values must be unique and hashable, same length as data. Default np.arrange(n) if no index is passed.\n",
        "3\t| **dtype**\n",
        " | dtype is for data type. If None, data type will be inferred\n",
        "4\t| **copy**\n",
        "  | Copy data. Default False\n",
        "\n",
        "**A series can be created using various inputs like −**\n",
        "\n",
        "* Array\n",
        "* Dict\n",
        "* Scalar value or constant\n",
        "\n"
      ]
    },
    {
      "cell_type": "markdown",
      "metadata": {
        "id": "gsnm0IiD-yvv"
      },
      "source": [
        "### Create a Series from ndarray\n",
        "If data is an ndarray, then index passed must be of the same length.\n",
        "\n",
        "If no index is passed, then by default index will be range(n) where n is array length, i.e., [0,1,2,3…. range(len(array))-1]."
      ]
    },
    {
      "cell_type": "code",
      "metadata": {
        "id": "4pJl-0b8_BeB",
        "colab": {
          "base_uri": "https://localhost:8080/"
        },
        "outputId": "93099eba-cad2-4e74-fef1-14ec7cb01857"
      },
      "source": [
        "#import the pandas library and aliasing as pd\n",
        "import pandas as pd\n",
        "import numpy as np\n",
        "data = np.array(['a','b','c','d'])\n",
        "s = pd.Series(data)\n",
        "print(s)"
      ],
      "execution_count": null,
      "outputs": [
        {
          "output_type": "stream",
          "name": "stdout",
          "text": [
            "0    a\n",
            "1    b\n",
            "2    c\n",
            "3    d\n",
            "dtype: object\n"
          ]
        }
      ]
    },
    {
      "cell_type": "markdown",
      "metadata": {
        "id": "jRNAla_d_eRk"
      },
      "source": [
        "We did not pass any index, so by default, it assigned the indexes ranging from 0 to **len(data)-1**, i.e., 0 to 3."
      ]
    },
    {
      "cell_type": "code",
      "metadata": {
        "id": "6Me2VhQ__oWc",
        "colab": {
          "base_uri": "https://localhost:8080/"
        },
        "outputId": "13ae7e17-df5a-45a8-c6e3-6241a57140bc"
      },
      "source": [
        "import pandas as pd\n",
        "import numpy as np\n",
        "data = np.array(['a','b','c','d'])\n",
        "s = pd.Series(data,index=[100,101,102,103])\n",
        "print (s)"
      ],
      "execution_count": null,
      "outputs": [
        {
          "output_type": "stream",
          "name": "stdout",
          "text": [
            "100    a\n",
            "101    b\n",
            "102    c\n",
            "103    d\n",
            "dtype: object\n"
          ]
        }
      ]
    },
    {
      "cell_type": "markdown",
      "metadata": {
        "id": "aYVoHUXr_pXa"
      },
      "source": [
        "We passed the index values here. Now we can see the customized indexed values in the output."
      ]
    },
    {
      "cell_type": "markdown",
      "metadata": {
        "id": "Uksniuh3_ssB"
      },
      "source": [
        "### Create a Series from dict\n",
        "A dict can be passed as input and if no index is specified, then the dictionary keys are taken in a sorted order to construct index.\n",
        "\n",
        "If index is passed, the values in data corresponding to the labels in the index will be pulled out."
      ]
    },
    {
      "cell_type": "code",
      "metadata": {
        "id": "eaAqMb9MAuSN",
        "colab": {
          "base_uri": "https://localhost:8080/"
        },
        "outputId": "e210f6fb-aa95-43f8-d89e-8909ab4090b5"
      },
      "source": [
        "import pandas as pd\n",
        "import numpy as np\n",
        "data = {'a' : 0., 'b' : 1., 'c' : 2.}\n",
        "s = pd.Series(data)\n",
        "print (s)"
      ],
      "execution_count": null,
      "outputs": [
        {
          "output_type": "stream",
          "name": "stdout",
          "text": [
            "a    0.0\n",
            "b    1.0\n",
            "c    2.0\n",
            "dtype: float64\n"
          ]
        }
      ]
    },
    {
      "cell_type": "markdown",
      "metadata": {
        "id": "GRiV_DvZA18O"
      },
      "source": [
        "**Observe** − Dictionary keys are used to **construct index.**"
      ]
    },
    {
      "cell_type": "code",
      "metadata": {
        "id": "Ygm9j0V2BBCc",
        "colab": {
          "base_uri": "https://localhost:8080/"
        },
        "outputId": "b54646da-a76f-435b-d779-610b8c959df2"
      },
      "source": [
        "import pandas as pd\n",
        "import numpy as np\n",
        "data = {'a' : 0., 'b' : 1., 'c' : 2.}\n",
        "s = pd.Series(data,index=['b','c','d','a'])\n",
        "print (s)"
      ],
      "execution_count": null,
      "outputs": [
        {
          "output_type": "stream",
          "name": "stdout",
          "text": [
            "b    1.0\n",
            "c    2.0\n",
            "d    NaN\n",
            "a    0.0\n",
            "dtype: float64\n"
          ]
        }
      ]
    },
    {
      "cell_type": "markdown",
      "metadata": {
        "id": "M6cGywmgBCVO"
      },
      "source": [
        "**Observe** − Index order is persisted and the missing element is filled with NaN (Not a Number)."
      ]
    },
    {
      "cell_type": "markdown",
      "metadata": {
        "id": "18uKYc6LBPSi"
      },
      "source": [
        "### Create a Series from Scalar\n",
        "If data is a scalar value, an index must be provided.\n",
        "\n",
        "The value will be repeated to match the length of index\n",
        "\n"
      ]
    },
    {
      "cell_type": "code",
      "metadata": {
        "id": "0M7-F5mBBR0o",
        "colab": {
          "base_uri": "https://localhost:8080/"
        },
        "outputId": "5c9bc5da-96cf-40f6-eb7b-2f9850de08c4"
      },
      "source": [
        "import pandas as pd\n",
        "import numpy as np\n",
        "s = pd.Series(5, index=[0, 1, 2, 3])\n",
        "print (s)"
      ],
      "execution_count": null,
      "outputs": [
        {
          "output_type": "stream",
          "name": "stdout",
          "text": [
            "0    5\n",
            "1    5\n",
            "2    5\n",
            "3    5\n",
            "dtype: int64\n"
          ]
        }
      ]
    },
    {
      "cell_type": "markdown",
      "metadata": {
        "id": "5ZyEO4lcBcYh"
      },
      "source": [
        "### Accessing Data from Series with Position\n",
        "Data in the series can be accessed similar to that in an ndarray.\n",
        "\n",
        "**Example 1**\n",
        "\n",
        "Retrieve the first element.\n",
        "\n",
        "As we already know, the counting starts from zero for the array, which means the first element is stored at zeroth position and so on."
      ]
    },
    {
      "cell_type": "code",
      "metadata": {
        "id": "e_SlhRJjBmBz",
        "colab": {
          "base_uri": "https://localhost:8080/"
        },
        "outputId": "9ce320ec-237f-4ea6-fe55-d42b6d18d194"
      },
      "source": [
        "import pandas as pd\n",
        "s = pd.Series([1,2,3,4,5],index = ['a','b','c','d','e'])\n",
        "\n",
        "#retrieve the first element\n",
        "print (s[0])"
      ],
      "execution_count": null,
      "outputs": [
        {
          "output_type": "stream",
          "name": "stdout",
          "text": [
            "1\n"
          ]
        }
      ]
    },
    {
      "cell_type": "markdown",
      "metadata": {
        "id": "tfQAjNaCBvFo"
      },
      "source": [
        "**Example 2**\n",
        "\n",
        "Retrieve the first three elements in the Series.\n",
        "\n",
        "If a : is inserted in front of it, all items from that index onwards will be extracted.\n",
        "\n",
        "If two parameters (with : between them) is used, items between the two indexes (not including the stop index)"
      ]
    },
    {
      "cell_type": "code",
      "metadata": {
        "id": "Or4W6_TdBynu",
        "colab": {
          "base_uri": "https://localhost:8080/"
        },
        "outputId": "1741f40d-3a3b-4a2a-d26e-d4ac71178cd8"
      },
      "source": [
        "import pandas as pd\n",
        "s = pd.Series([1,2,3,4,5],index = ['a','b','c','d','e'])\n",
        "\n",
        "#retrieve the first three element\n",
        "print (s[:3])"
      ],
      "execution_count": null,
      "outputs": [
        {
          "output_type": "stream",
          "name": "stdout",
          "text": [
            "a    1\n",
            "b    2\n",
            "c    3\n",
            "dtype: int64\n"
          ]
        }
      ]
    },
    {
      "cell_type": "markdown",
      "metadata": {
        "id": "jz7G6kjECJvx"
      },
      "source": [
        "### Retrieve Data Using Label (Index)\n",
        "A Series is like a fixed-size dict in that you can get and set values by index label.\n",
        "\n",
        "**Example 1**\n",
        "\n",
        "Retrieve a single element using index label value."
      ]
    },
    {
      "cell_type": "code",
      "metadata": {
        "id": "9K2wUXhnCM62",
        "colab": {
          "base_uri": "https://localhost:8080/"
        },
        "outputId": "9d958a17-9194-43d2-99aa-212767c50d22"
      },
      "source": [
        "import pandas as pd\n",
        "s = pd.Series([1,2,3,4,5],index = ['a','b','c','d','e'])\n",
        "\n",
        "#retrieve a single element\n",
        "print (s['a'])"
      ],
      "execution_count": null,
      "outputs": [
        {
          "output_type": "stream",
          "name": "stdout",
          "text": [
            "1\n"
          ]
        }
      ]
    },
    {
      "cell_type": "markdown",
      "metadata": {
        "id": "PG3Y_IKtCQyv"
      },
      "source": [
        "**Example 2**\n",
        "\n",
        "Retrieve multiple elements using a list of index label values."
      ]
    },
    {
      "cell_type": "code",
      "metadata": {
        "id": "K5rn6AUBCUCi",
        "colab": {
          "base_uri": "https://localhost:8080/"
        },
        "outputId": "02f57366-5e6d-44ad-8416-25be732f1a96"
      },
      "source": [
        "import pandas as pd\n",
        "s = pd.Series([1,2,3,4,5],index = ['a','b','c','d','e'])\n",
        "\n",
        "#retrieve multiple elements\n",
        "print (s[['a','c','d']])"
      ],
      "execution_count": null,
      "outputs": [
        {
          "output_type": "stream",
          "name": "stdout",
          "text": [
            "a    1\n",
            "c    3\n",
            "d    4\n",
            "dtype: int64\n"
          ]
        }
      ]
    },
    {
      "cell_type": "markdown",
      "metadata": {
        "id": "5agZgmM1CuAr"
      },
      "source": [
        "# DataFrame\n",
        "\n",
        "A Data frame is a two-dimensional data structure, i.e., data is aligned in a tabular fashion in rows and columns.\n",
        "\n",
        "### Features of DataFrame\n",
        "* Potentially columns are of different types\n",
        "* Size – Mutable\n",
        "* Labeled axes (rows and columns)\n",
        "* Can Perform Arithmetic operations on rows and columns\n",
        "\n",
        "### Structure\n",
        "Let us assume that we are creating a data frame with student’s data."
      ]
    },
    {
      "cell_type": "markdown",
      "metadata": {
        "id": "vB60cplgDEe0"
      },
      "source": [
        "![structure_table.jpg](data:image/jpeg;base64,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)"
      ]
    },
    {
      "cell_type": "markdown",
      "metadata": {
        "id": "sXZgA7DXDXzL"
      },
      "source": [
        "You can think of it as an SQL table or a spreadsheet data representation.\n",
        "\n",
        "### pandas.DataFrame\n",
        "A pandas DataFrame can be created using the following constructor −\n",
        "\n",
        "**pandas.DataFrame( data, index, columns, dtype, copy)**\n",
        "\n",
        "The parameters of the constructor are as follows −\n",
        "\n",
        "Sr.No\t| Parameter & Description\n",
        ":-------- |:---------------\n",
        "1\t| data\n",
        "| data takes various forms like ndarray, series, map, lists, dict, constants and also another DataFrame.\n",
        "2\t| index\n",
        "| For the row labels, the Index to be used for the resulting frame is Optional Default np.arange(n) if no index is passed.\n",
        " 3\t| columns\n",
        "| For column labels, the optional default syntax is - np.arange(n). This is only true if no index is passed.\n",
        "4\t| dtype\n",
        "| Data type of each column.\n",
        "5 | copy\n",
        "| This command (or whatever it is) is used for copying of data, if the default is False.\n",
        "\n",
        "### Create DataFrame\n",
        "A pandas DataFrame can be created using various inputs like −\n",
        "\n",
        "* Lists\n",
        "* dict\n",
        "* Series\n",
        "* Numpy ndarrays\n",
        "* Another DataFrame\n",
        "\n",
        "In the subsequent sections of this chapter, we will see how to create a DataFrame using these inputs.\n",
        "\n",
        "### Create an Empty DataFrame\n",
        "A basic DataFrame, which can be created is an Empty Dataframe."
      ]
    },
    {
      "cell_type": "code",
      "metadata": {
        "id": "NyFY02oTD76g",
        "colab": {
          "base_uri": "https://localhost:8080/"
        },
        "outputId": "79abdb1f-a322-4156-be44-45f2b4545b9a"
      },
      "source": [
        "import pandas as pd\n",
        "df = pd.DataFrame()\n",
        "print (df)"
      ],
      "execution_count": null,
      "outputs": [
        {
          "output_type": "stream",
          "name": "stdout",
          "text": [
            "Empty DataFrame\n",
            "Columns: []\n",
            "Index: []\n"
          ]
        }
      ]
    },
    {
      "cell_type": "markdown",
      "metadata": {
        "id": "MV2D-XjNECi8"
      },
      "source": [
        "### Create a DataFrame from Lists\n",
        "The DataFrame can be created using a single list or a list of lists."
      ]
    },
    {
      "cell_type": "code",
      "metadata": {
        "id": "oS3Tfe0vEGEN",
        "colab": {
          "base_uri": "https://localhost:8080/"
        },
        "outputId": "00e3cd6a-232b-40fc-c76e-33afa59c49e0"
      },
      "source": [
        "import pandas as pd\n",
        "data = [1,2,3,4,5]\n",
        "df = pd.DataFrame(data)\n",
        "print (df)"
      ],
      "execution_count": null,
      "outputs": [
        {
          "output_type": "stream",
          "name": "stdout",
          "text": [
            "   0\n",
            "0  1\n",
            "1  2\n",
            "2  3\n",
            "3  4\n",
            "4  5\n"
          ]
        }
      ]
    },
    {
      "cell_type": "code",
      "metadata": {
        "id": "W8s9OgsWEeop",
        "colab": {
          "base_uri": "https://localhost:8080/"
        },
        "outputId": "495fc23d-9cb2-465c-aa64-16e90a76c18a"
      },
      "source": [
        "import pandas as pd\n",
        "data = [['Alex',10],['Bob',12],['Clarke',13]]\n",
        "df = pd.DataFrame(data,columns=['Name','Age'])\n",
        "print (df)"
      ],
      "execution_count": null,
      "outputs": [
        {
          "output_type": "stream",
          "name": "stdout",
          "text": [
            "     Name  Age\n",
            "0    Alex   10\n",
            "1     Bob   12\n",
            "2  Clarke   13\n"
          ]
        }
      ]
    },
    {
      "cell_type": "code",
      "metadata": {
        "id": "1yGfWSXcEiDP",
        "colab": {
          "base_uri": "https://localhost:8080/",
          "height": 349
        },
        "outputId": "63efc89c-7856-4bd5-aaac-aac7a071d358"
      },
      "source": [
        "import pandas as pd\n",
        "data = [['Alex',10],['Bob',12],['Clarke',13]]\n",
        "df = pd.DataFrame(data,columns=['Name','Age'],dtype=float)\n",
        "print (df)"
      ],
      "execution_count": null,
      "outputs": [
        {
          "output_type": "error",
          "ename": "ValueError",
          "evalue": "could not convert string to float: 'Alex'",
          "traceback": [
            "\u001b[0;31m---------------------------------------------------------------------------\u001b[0m",
            "\u001b[0;31mValueError\u001b[0m                                Traceback (most recent call last)",
            "\u001b[0;32m<ipython-input-22-bd69b4b16c5e>\u001b[0m in \u001b[0;36m<cell line: 3>\u001b[0;34m()\u001b[0m\n\u001b[1;32m      1\u001b[0m \u001b[0;32mimport\u001b[0m \u001b[0mpandas\u001b[0m \u001b[0;32mas\u001b[0m \u001b[0mpd\u001b[0m\u001b[0;34m\u001b[0m\u001b[0;34m\u001b[0m\u001b[0m\n\u001b[1;32m      2\u001b[0m \u001b[0mdata\u001b[0m \u001b[0;34m=\u001b[0m \u001b[0;34m[\u001b[0m\u001b[0;34m[\u001b[0m\u001b[0;34m'Alex'\u001b[0m\u001b[0;34m,\u001b[0m\u001b[0;36m10\u001b[0m\u001b[0;34m]\u001b[0m\u001b[0;34m,\u001b[0m\u001b[0;34m[\u001b[0m\u001b[0;34m'Bob'\u001b[0m\u001b[0;34m,\u001b[0m\u001b[0;36m12\u001b[0m\u001b[0;34m]\u001b[0m\u001b[0;34m,\u001b[0m\u001b[0;34m[\u001b[0m\u001b[0;34m'Clarke'\u001b[0m\u001b[0;34m,\u001b[0m\u001b[0;36m13\u001b[0m\u001b[0;34m]\u001b[0m\u001b[0;34m]\u001b[0m\u001b[0;34m\u001b[0m\u001b[0;34m\u001b[0m\u001b[0m\n\u001b[0;32m----> 3\u001b[0;31m \u001b[0mdf\u001b[0m \u001b[0;34m=\u001b[0m \u001b[0mpd\u001b[0m\u001b[0;34m.\u001b[0m\u001b[0mDataFrame\u001b[0m\u001b[0;34m(\u001b[0m\u001b[0mdata\u001b[0m\u001b[0;34m,\u001b[0m\u001b[0mcolumns\u001b[0m\u001b[0;34m=\u001b[0m\u001b[0;34m[\u001b[0m\u001b[0;34m'Name'\u001b[0m\u001b[0;34m,\u001b[0m\u001b[0;34m'Age'\u001b[0m\u001b[0;34m]\u001b[0m\u001b[0;34m,\u001b[0m\u001b[0mdtype\u001b[0m\u001b[0;34m=\u001b[0m\u001b[0mfloat\u001b[0m\u001b[0;34m)\u001b[0m\u001b[0;34m\u001b[0m\u001b[0;34m\u001b[0m\u001b[0m\n\u001b[0m\u001b[1;32m      4\u001b[0m \u001b[0mprint\u001b[0m \u001b[0;34m(\u001b[0m\u001b[0mdf\u001b[0m\u001b[0;34m)\u001b[0m\u001b[0;34m\u001b[0m\u001b[0;34m\u001b[0m\u001b[0m\n",
            "\u001b[0;32m/usr/local/lib/python3.10/dist-packages/pandas/core/frame.py\u001b[0m in \u001b[0;36m__init__\u001b[0;34m(self, data, index, columns, dtype, copy)\u001b[0m\n\u001b[1;32m    788\u001b[0m                         \u001b[0mdtype\u001b[0m\u001b[0;34m,\u001b[0m\u001b[0;34m\u001b[0m\u001b[0;34m\u001b[0m\u001b[0m\n\u001b[1;32m    789\u001b[0m                     )\n\u001b[0;32m--> 790\u001b[0;31m                     mgr = arrays_to_mgr(\n\u001b[0m\u001b[1;32m    791\u001b[0m                         \u001b[0marrays\u001b[0m\u001b[0;34m,\u001b[0m\u001b[0;34m\u001b[0m\u001b[0;34m\u001b[0m\u001b[0m\n\u001b[1;32m    792\u001b[0m                         \u001b[0mcolumns\u001b[0m\u001b[0;34m,\u001b[0m\u001b[0;34m\u001b[0m\u001b[0;34m\u001b[0m\u001b[0m\n",
            "\u001b[0;32m/usr/local/lib/python3.10/dist-packages/pandas/core/internals/construction.py\u001b[0m in \u001b[0;36marrays_to_mgr\u001b[0;34m(arrays, columns, index, dtype, verify_integrity, typ, consolidate)\u001b[0m\n\u001b[1;32m    118\u001b[0m \u001b[0;34m\u001b[0m\u001b[0m\n\u001b[1;32m    119\u001b[0m         \u001b[0;31m# don't force copy because getting jammed in an ndarray anyway\u001b[0m\u001b[0;34m\u001b[0m\u001b[0;34m\u001b[0m\u001b[0m\n\u001b[0;32m--> 120\u001b[0;31m         \u001b[0marrays\u001b[0m\u001b[0;34m,\u001b[0m \u001b[0mrefs\u001b[0m \u001b[0;34m=\u001b[0m \u001b[0m_homogenize\u001b[0m\u001b[0;34m(\u001b[0m\u001b[0marrays\u001b[0m\u001b[0;34m,\u001b[0m \u001b[0mindex\u001b[0m\u001b[0;34m,\u001b[0m \u001b[0mdtype\u001b[0m\u001b[0;34m)\u001b[0m\u001b[0;34m\u001b[0m\u001b[0;34m\u001b[0m\u001b[0m\n\u001b[0m\u001b[1;32m    121\u001b[0m         \u001b[0;31m# _homogenize ensures\u001b[0m\u001b[0;34m\u001b[0m\u001b[0;34m\u001b[0m\u001b[0m\n\u001b[1;32m    122\u001b[0m         \u001b[0;31m#  - all(len(x) == len(index) for x in arrays)\u001b[0m\u001b[0;34m\u001b[0m\u001b[0;34m\u001b[0m\u001b[0m\n",
            "\u001b[0;32m/usr/local/lib/python3.10/dist-packages/pandas/core/internals/construction.py\u001b[0m in \u001b[0;36m_homogenize\u001b[0;34m(data, index, dtype)\u001b[0m\n\u001b[1;32m    605\u001b[0m                 \u001b[0mval\u001b[0m \u001b[0;34m=\u001b[0m \u001b[0mlib\u001b[0m\u001b[0;34m.\u001b[0m\u001b[0mfast_multiget\u001b[0m\u001b[0;34m(\u001b[0m\u001b[0mval\u001b[0m\u001b[0;34m,\u001b[0m \u001b[0moindex\u001b[0m\u001b[0;34m.\u001b[0m\u001b[0m_values\u001b[0m\u001b[0;34m,\u001b[0m \u001b[0mdefault\u001b[0m\u001b[0;34m=\u001b[0m\u001b[0mnp\u001b[0m\u001b[0;34m.\u001b[0m\u001b[0mnan\u001b[0m\u001b[0;34m)\u001b[0m\u001b[0;34m\u001b[0m\u001b[0;34m\u001b[0m\u001b[0m\n\u001b[1;32m    606\u001b[0m \u001b[0;34m\u001b[0m\u001b[0m\n\u001b[0;32m--> 607\u001b[0;31m             \u001b[0mval\u001b[0m \u001b[0;34m=\u001b[0m \u001b[0msanitize_array\u001b[0m\u001b[0;34m(\u001b[0m\u001b[0mval\u001b[0m\u001b[0;34m,\u001b[0m \u001b[0mindex\u001b[0m\u001b[0;34m,\u001b[0m \u001b[0mdtype\u001b[0m\u001b[0;34m=\u001b[0m\u001b[0mdtype\u001b[0m\u001b[0;34m,\u001b[0m \u001b[0mcopy\u001b[0m\u001b[0;34m=\u001b[0m\u001b[0;32mFalse\u001b[0m\u001b[0;34m)\u001b[0m\u001b[0;34m\u001b[0m\u001b[0;34m\u001b[0m\u001b[0m\n\u001b[0m\u001b[1;32m    608\u001b[0m             \u001b[0mcom\u001b[0m\u001b[0;34m.\u001b[0m\u001b[0mrequire_length_match\u001b[0m\u001b[0;34m(\u001b[0m\u001b[0mval\u001b[0m\u001b[0;34m,\u001b[0m \u001b[0mindex\u001b[0m\u001b[0;34m)\u001b[0m\u001b[0;34m\u001b[0m\u001b[0;34m\u001b[0m\u001b[0m\n\u001b[1;32m    609\u001b[0m             \u001b[0mrefs\u001b[0m\u001b[0;34m.\u001b[0m\u001b[0mappend\u001b[0m\u001b[0;34m(\u001b[0m\u001b[0;32mNone\u001b[0m\u001b[0;34m)\u001b[0m\u001b[0;34m\u001b[0m\u001b[0;34m\u001b[0m\u001b[0m\n",
            "\u001b[0;32m/usr/local/lib/python3.10/dist-packages/pandas/core/construction.py\u001b[0m in \u001b[0;36msanitize_array\u001b[0;34m(data, index, dtype, copy, allow_2d)\u001b[0m\n\u001b[1;32m    574\u001b[0m         \u001b[0;32melse\u001b[0m\u001b[0;34m:\u001b[0m\u001b[0;34m\u001b[0m\u001b[0;34m\u001b[0m\u001b[0m\n\u001b[1;32m    575\u001b[0m             \u001b[0;31m# we will try to copy by-definition here\u001b[0m\u001b[0;34m\u001b[0m\u001b[0;34m\u001b[0m\u001b[0m\n\u001b[0;32m--> 576\u001b[0;31m             \u001b[0msubarr\u001b[0m \u001b[0;34m=\u001b[0m \u001b[0m_try_cast\u001b[0m\u001b[0;34m(\u001b[0m\u001b[0mdata\u001b[0m\u001b[0;34m,\u001b[0m \u001b[0mdtype\u001b[0m\u001b[0;34m,\u001b[0m \u001b[0mcopy\u001b[0m\u001b[0;34m)\u001b[0m\u001b[0;34m\u001b[0m\u001b[0;34m\u001b[0m\u001b[0m\n\u001b[0m\u001b[1;32m    577\u001b[0m \u001b[0;34m\u001b[0m\u001b[0m\n\u001b[1;32m    578\u001b[0m     \u001b[0;32melif\u001b[0m \u001b[0mhasattr\u001b[0m\u001b[0;34m(\u001b[0m\u001b[0mdata\u001b[0m\u001b[0;34m,\u001b[0m \u001b[0;34m\"__array__\"\u001b[0m\u001b[0;34m)\u001b[0m\u001b[0;34m:\u001b[0m\u001b[0;34m\u001b[0m\u001b[0;34m\u001b[0m\u001b[0m\n",
            "\u001b[0;32m/usr/local/lib/python3.10/dist-packages/pandas/core/construction.py\u001b[0m in \u001b[0;36m_try_cast\u001b[0;34m(arr, dtype, copy)\u001b[0m\n\u001b[1;32m    763\u001b[0m         \u001b[0msubarr\u001b[0m \u001b[0;34m=\u001b[0m \u001b[0mmaybe_cast_to_integer_array\u001b[0m\u001b[0;34m(\u001b[0m\u001b[0marr\u001b[0m\u001b[0;34m,\u001b[0m \u001b[0mdtype\u001b[0m\u001b[0;34m)\u001b[0m\u001b[0;34m\u001b[0m\u001b[0;34m\u001b[0m\u001b[0m\n\u001b[1;32m    764\u001b[0m     \u001b[0;32melse\u001b[0m\u001b[0;34m:\u001b[0m\u001b[0;34m\u001b[0m\u001b[0;34m\u001b[0m\u001b[0m\n\u001b[0;32m--> 765\u001b[0;31m         \u001b[0msubarr\u001b[0m \u001b[0;34m=\u001b[0m \u001b[0mnp\u001b[0m\u001b[0;34m.\u001b[0m\u001b[0marray\u001b[0m\u001b[0;34m(\u001b[0m\u001b[0marr\u001b[0m\u001b[0;34m,\u001b[0m \u001b[0mdtype\u001b[0m\u001b[0;34m=\u001b[0m\u001b[0mdtype\u001b[0m\u001b[0;34m,\u001b[0m \u001b[0mcopy\u001b[0m\u001b[0;34m=\u001b[0m\u001b[0mcopy\u001b[0m\u001b[0;34m)\u001b[0m\u001b[0;34m\u001b[0m\u001b[0;34m\u001b[0m\u001b[0m\n\u001b[0m\u001b[1;32m    766\u001b[0m \u001b[0;34m\u001b[0m\u001b[0m\n\u001b[1;32m    767\u001b[0m     \u001b[0;32mreturn\u001b[0m \u001b[0msubarr\u001b[0m\u001b[0;34m\u001b[0m\u001b[0;34m\u001b[0m\u001b[0m\n",
            "\u001b[0;31mValueError\u001b[0m: could not convert string to float: 'Alex'"
          ]
        }
      ]
    },
    {
      "cell_type": "markdown",
      "metadata": {
        "id": "rioMEIc3EnBy"
      },
      "source": [
        "**Note −** Observe, the dtype parameter changes the type of Age column to floating point."
      ]
    },
    {
      "cell_type": "markdown",
      "metadata": {
        "id": "bi7_UdwLEz6P"
      },
      "source": [
        "### Create a DataFrame from Dict of ndarrays / Lists\n",
        "All the ndarrays must be of same length. If index is passed, then the length of the index should equal to the length of the arrays.\n",
        "\n",
        "If no index is passed, then by default, index will be range(n), where **n** is the array length."
      ]
    },
    {
      "cell_type": "code",
      "metadata": {
        "id": "W9hHbTwuE4_S"
      },
      "source": [
        "import pandas as pd\n",
        "data = {'Name':['Tom', 'Jack', 'Steve', 'Ricky'],'Age':[28,34,29,42]}\n",
        "df = pd.DataFrame(data)\n",
        "print (df)"
      ],
      "execution_count": null,
      "outputs": []
    },
    {
      "cell_type": "markdown",
      "metadata": {
        "id": "Rj5eORMXE9Ya"
      },
      "source": [
        "**Note** − Observe the values 0,1,2,3. They are the default index assigned to each using the function range(n).\n",
        "\n",
        "Let us now create an indexed DataFrame using arrays\n"
      ]
    },
    {
      "cell_type": "code",
      "metadata": {
        "id": "FyINNr3jFB6G"
      },
      "source": [
        "import pandas as pd\n",
        "data = {'Name':['Tom', 'Jack', 'Steve', 'Ricky'],'Age':[28,34,29,42]}\n",
        "df = pd.DataFrame(data, index=['rank1','rank2','rank3','rank4'])\n",
        "print (df)"
      ],
      "execution_count": null,
      "outputs": []
    },
    {
      "cell_type": "markdown",
      "metadata": {
        "id": "MJVOMebaFJA1"
      },
      "source": [
        "**Note** − Observe, the index parameter assigns an index to each row.\n",
        "\n",
        "### Create a DataFrame from List of Dicts\n",
        "List of Dictionaries can be passed as input data to create a DataFrame. The dictionary keys are by default taken as column names.\n",
        "\n",
        "The following example shows how to create a DataFrame by passing a list of dictionaries"
      ]
    },
    {
      "cell_type": "code",
      "metadata": {
        "id": "Jo9rFB2LFP_m"
      },
      "source": [
        "import pandas as pd\n",
        "data = [{'a': 1, 'b': 2},{'a': 5, 'b': 10, 'c': 20}]\n",
        "df = pd.DataFrame(data)\n",
        "print (df)"
      ],
      "execution_count": null,
      "outputs": []
    },
    {
      "cell_type": "markdown",
      "metadata": {
        "id": "a_sTTtgiFUdB"
      },
      "source": [
        "**Note** − Observe, NaN (Not a Number) is appended in missing areas.\n",
        "\n",
        "\n",
        "The following example shows how to create a DataFrame by passing a list of dictionaries and the row indices."
      ]
    },
    {
      "cell_type": "code",
      "metadata": {
        "id": "Z2vfxY-eFYi6"
      },
      "source": [
        "import pandas as pd\n",
        "data = [{'a': 1, 'b': 2},{'a': 5, 'b': 10, 'c': 20}]\n",
        "df = pd.DataFrame(data, index=['first', 'second'])\n",
        "print (df)"
      ],
      "execution_count": null,
      "outputs": []
    },
    {
      "cell_type": "markdown",
      "metadata": {
        "id": "Q70sExNMFfGN"
      },
      "source": [
        "The following example shows how to create a DataFrame with a list of dictionaries, row indices, and column indices."
      ]
    },
    {
      "cell_type": "code",
      "metadata": {
        "id": "RjmrMykQFgLT"
      },
      "source": [
        "import pandas as pd\n",
        "data = [{'a': 1, 'b': 2},{'a': 5, 'b': 10, 'c': 20}]\n",
        "\n",
        "#With two column indices, values same as dictionary keys\n",
        "df1 = pd.DataFrame(data, index=['first', 'second'], columns=['a', 'b'])\n",
        "\n",
        "#With two column indices with one index with other name\n",
        "df2 = pd.DataFrame(data, index=['first', 'second'], columns=['a', 'b1'])\n",
        "print (df1)\n",
        "print (df2)"
      ],
      "execution_count": null,
      "outputs": []
    },
    {
      "cell_type": "markdown",
      "metadata": {
        "id": "wUefPsM9Fok1"
      },
      "source": [
        "**Note −** Observe, df2 DataFrame is created with a column index other than the dictionary key; thus, appended the NaN’s in place. Whereas, df1 is created with column indices same as dictionary keys, so NaN’s appended.\n",
        "\n",
        "## Create a DataFrame from Dict of Series\n",
        "Dictionary of Series can be passed to form a DataFrame. The resultant index is the union of all the series indexes passed."
      ]
    },
    {
      "cell_type": "code",
      "metadata": {
        "id": "NJtxenMeFuFm"
      },
      "source": [
        "import pandas as pd\n",
        "\n",
        "d = {'one' : pd.Series([1, 2, 3], index=['a', 'b', 'c']),\n",
        "   'two' : pd.Series([1, 2, 3, 4], index=['a', 'b', 'c', 'd'])}\n",
        "\n",
        "df = pd.DataFrame(d)\n",
        "print (df)"
      ],
      "execution_count": null,
      "outputs": []
    },
    {
      "cell_type": "markdown",
      "metadata": {
        "id": "BRgo5q_NFxLU"
      },
      "source": [
        "**Note −** Observe, for the series one, there is no label ‘d’ passed, but in the result, for the d label, NaN is appended with NaN.\n",
        "\n",
        "Let us now understand column selection, addition, and deletion through examples.\n",
        "\n",
        "### Column Selection\n",
        "We will understand this by selecting a column from the DataFrame."
      ]
    },
    {
      "cell_type": "code",
      "metadata": {
        "id": "JDkn8S6_F8dz"
      },
      "source": [
        "import pandas as pd\n",
        "\n",
        "d = {'one' : pd.Series([1, 2, 3], index=['a', 'b', 'c']),\n",
        "   'two' : pd.Series([1, 2, 3, 4], index=['a', 'b', 'c', 'd'])}\n",
        "\n",
        "df = pd.DataFrame(d)\n",
        "print (df ['one'])"
      ],
      "execution_count": null,
      "outputs": []
    },
    {
      "cell_type": "markdown",
      "metadata": {
        "id": "RrNQhqIEGBMi"
      },
      "source": [
        "### Column Addition\n",
        "We will understand this by adding a new column to an existing data frame."
      ]
    },
    {
      "cell_type": "code",
      "metadata": {
        "id": "Ieku3BC6GDA2"
      },
      "source": [
        "import pandas as pd\n",
        "\n",
        "d = {'one' : pd.Series([1, 2, 3], index=['a', 'b', 'c']),\n",
        "   'two' : pd.Series([1, 2, 3, 4], index=['a', 'b', 'c', 'd'])}\n",
        "\n",
        "df = pd.DataFrame(d)\n",
        "\n",
        "# Adding a new column to an existing DataFrame object with column label by passing new series\n",
        "\n",
        "print (\"Adding a new column by passing as Series:\")\n",
        "df['three']=pd.Series([10,20,30],index=['a','b','c'])\n",
        "print (df)\n",
        "\n",
        "print (\"Adding a new column using the existing columns in DataFrame:\")\n",
        "df['four']=df['one']+df['three']\n",
        "\n",
        "print (df)"
      ],
      "execution_count": null,
      "outputs": []
    },
    {
      "cell_type": "markdown",
      "metadata": {
        "id": "KHBftXgwGNCa"
      },
      "source": [
        "### Column Deletion\n",
        "Columns can be deleted or popped; let us take an example to understand how."
      ]
    },
    {
      "cell_type": "code",
      "metadata": {
        "id": "GJMLZGKfGPpr"
      },
      "source": [
        "# Using the previous DataFrame, we will delete a column\n",
        "# using del function\n",
        "import pandas as pd\n",
        "\n",
        "d = {'one' : pd.Series([1, 2, 3], index=['a', 'b', 'c']),\n",
        "   'two' : pd.Series([1, 2, 3, 4], index=['a', 'b', 'c', 'd']),\n",
        "   'three' : pd.Series([10,20,30], index=['a','b','c'])}\n",
        "\n",
        "df = pd.DataFrame(d)\n",
        "print (\"Our dataframe is:\")\n",
        "print (df)\n",
        "\n",
        "# using del function\n",
        "print (\"Deleting the first column using DEL function:\")\n",
        "del (df['one'])\n",
        "print (df)\n",
        "\n",
        "# using pop function\n",
        "print (\"Deleting another column using POP function:\")\n",
        "df.pop('two')\n",
        "print (df)"
      ],
      "execution_count": null,
      "outputs": []
    },
    {
      "cell_type": "markdown",
      "metadata": {
        "id": "Ph5_Ce9zGkNr"
      },
      "source": [
        "### Row Selection, Addition, and Deletion\n",
        "We will now understand row selection, addition and deletion through examples. Let us begin with the concept of selection.\n",
        "\n",
        "**Selection by Label**\n",
        "\n",
        "Rows can be selected by passing row label to a loc function."
      ]
    },
    {
      "cell_type": "code",
      "metadata": {
        "id": "D0b4rYFLGrrb"
      },
      "source": [
        "import pandas as pd\n",
        "\n",
        "d = {'one' : pd.Series([1, 2, 3], index=['a', 'b', 'c']),\n",
        "   'two' : pd.Series([1, 2, 3, 4], index=['a', 'b', 'c', 'd'])}\n",
        "\n",
        "df = pd.DataFrame(d)\n",
        "print (df.loc['b'])"
      ],
      "execution_count": null,
      "outputs": []
    },
    {
      "cell_type": "markdown",
      "metadata": {
        "id": "AwHe41lGGyA4"
      },
      "source": [
        "The result is a series with labels as column names of the DataFrame. And, the Name of the series is the label with which it is retrieved.\n",
        "\n",
        "**Selection by integer location**\n",
        "\n",
        "Rows can be selected by passing integer location to an iloc function."
      ]
    },
    {
      "cell_type": "code",
      "metadata": {
        "id": "Q-dbZxytG0Kz"
      },
      "source": [
        "import pandas as pd\n",
        "\n",
        "d = {'one' : pd.Series([1, 2, 3], index=['a', 'b', 'c']),\n",
        "   'two' : pd.Series([1, 2, 3, 4], index=['a', 'b', 'c', 'd'])}\n",
        "\n",
        "df = pd.DataFrame(d)\n",
        "print (df.iloc[2])"
      ],
      "execution_count": null,
      "outputs": []
    },
    {
      "cell_type": "markdown",
      "metadata": {
        "id": "yBryVyReG8oH"
      },
      "source": [
        "**Slice Rows**\n",
        "\n",
        "Multiple rows can be selected using ‘ : ’ operator."
      ]
    },
    {
      "cell_type": "code",
      "metadata": {
        "id": "ghNWtuKKHBVd"
      },
      "source": [
        "import pandas as pd\n",
        "\n",
        "d = {'one' : pd.Series([1, 2, 3], index=['a', 'b', 'c']),\n",
        "   'two' : pd.Series([1, 2, 3, 4], index=['a', 'b', 'c', 'd'])}\n",
        "\n",
        "df = pd.DataFrame(d)\n",
        "print (df[2:4])"
      ],
      "execution_count": null,
      "outputs": []
    },
    {
      "cell_type": "markdown",
      "metadata": {
        "id": "WluUAWQNHGCY"
      },
      "source": [
        "**Addition of Rows**\n",
        "\n",
        "Add new rows to a DataFrame using the append function. This function will append the rows at the end."
      ]
    },
    {
      "cell_type": "code",
      "metadata": {
        "id": "ez05HhY0HKAS"
      },
      "source": [
        "import pandas as pd\n",
        "\n",
        "df = pd.DataFrame([[1, 2], [3, 4]], columns = ['a','b'])\n",
        "df2 = pd.DataFrame([[5, 6], [7, 8]], columns = ['a','b'])\n",
        "\n",
        "df = df.append(df2)\n",
        "print (df)"
      ],
      "execution_count": null,
      "outputs": []
    },
    {
      "cell_type": "markdown",
      "metadata": {
        "id": "hZ0OZJERHNgO"
      },
      "source": [
        "**Deletion of Rows**\n",
        "\n",
        "Use index label to delete or drop rows from a DataFrame. If label is duplicated, then multiple rows will be dropped.\n",
        "\n",
        "If you observe, in the above example, the labels are duplicate. Let us drop a label and will see how many rows will get dropped."
      ]
    },
    {
      "cell_type": "code",
      "metadata": {
        "id": "qDBqFlOhHSCo"
      },
      "source": [
        "import pandas as pd\n",
        "\n",
        "df = pd.DataFrame([[1, 2], [3, 4]], columns = ['a','b'])\n",
        "df2 = pd.DataFrame([[5, 6], [7, 8]], columns = ['a','b'])\n",
        "\n",
        "df = df.append(df2)\n",
        "\n",
        "# Drop rows with label 0\n",
        "df = df.drop(0)\n",
        "\n",
        "print (df)"
      ],
      "execution_count": null,
      "outputs": []
    },
    {
      "cell_type": "markdown",
      "metadata": {
        "id": "17IduqC_HZ_D"
      },
      "source": [
        "In the above example, two rows were dropped because those two contain the same label 0."
      ]
    },
    {
      "cell_type": "markdown",
      "metadata": {
        "id": "G9u04bBF7VKV"
      },
      "source": [
        "### 1. Installation"
      ]
    },
    {
      "cell_type": "markdown",
      "metadata": {
        "id": "sFpDgQKD7VKX"
      },
      "source": [
        "pip install pandas\n",
        "\n",
        "pip install jupyterlab"
      ]
    },
    {
      "cell_type": "markdown",
      "metadata": {
        "id": "W7Xxl9vg7VKZ"
      },
      "source": [
        "### 2. Loading the data"
      ]
    },
    {
      "cell_type": "code",
      "metadata": {
        "id": "I2E38PSF9W-I"
      },
      "source": [
        "from google.colab import drive\n",
        "drive.mount('/content/drive')"
      ],
      "execution_count": null,
      "outputs": []
    },
    {
      "cell_type": "code",
      "metadata": {
        "id": "EaLjR1dS7VKa"
      },
      "source": [
        "import pandas as pd\n",
        "\n",
        "data = pd.read_csv(\"/content/drive/My Drive/data/survey_results_schema_2019.csv\")"
      ],
      "execution_count": null,
      "outputs": []
    },
    {
      "cell_type": "markdown",
      "metadata": {
        "id": "RJdSE06g7VKi"
      },
      "source": [
        "### 3. Top 5 rows"
      ]
    },
    {
      "cell_type": "code",
      "metadata": {
        "id": "fk1SIMBC7VKj"
      },
      "source": [
        "data.head()"
      ],
      "execution_count": null,
      "outputs": []
    },
    {
      "cell_type": "markdown",
      "metadata": {
        "id": "S1bZu_YP7VKo"
      },
      "source": [
        "### 4. Last 5 rows"
      ]
    },
    {
      "cell_type": "code",
      "metadata": {
        "id": "9kn6Ict87VKq"
      },
      "source": [
        "data.tail()"
      ],
      "execution_count": null,
      "outputs": []
    },
    {
      "cell_type": "markdown",
      "metadata": {
        "id": "qlbw0Q0L7VKy"
      },
      "source": [
        "### 5. Dataframe shape"
      ]
    },
    {
      "cell_type": "code",
      "metadata": {
        "id": "3Q8m3lqY7VK0"
      },
      "source": [
        "data.shape"
      ],
      "execution_count": null,
      "outputs": []
    },
    {
      "cell_type": "markdown",
      "metadata": {
        "id": "Nar9dVlt7VK5"
      },
      "source": [
        "### 6. Information about the data"
      ]
    },
    {
      "cell_type": "code",
      "metadata": {
        "id": "ZqUJBcs67VK5"
      },
      "source": [
        "data.info()"
      ],
      "execution_count": null,
      "outputs": []
    },
    {
      "cell_type": "markdown",
      "metadata": {
        "id": "UQ-aw2u-7VK_"
      },
      "source": [
        "### 7. Description of numerical features"
      ]
    },
    {
      "cell_type": "code",
      "metadata": {
        "id": "EePd1Crf7VLA"
      },
      "source": [
        "data.describe()"
      ],
      "execution_count": null,
      "outputs": []
    },
    {
      "cell_type": "markdown",
      "metadata": {
        "id": "aAQGQLEy7VLI"
      },
      "source": [
        "### 8. Printing the column names"
      ]
    },
    {
      "cell_type": "code",
      "metadata": {
        "id": "k8iS87Dd7VLJ"
      },
      "source": [
        "data.columns"
      ],
      "execution_count": null,
      "outputs": []
    },
    {
      "cell_type": "code",
      "metadata": {
        "id": "zzyj2SP67VLN"
      },
      "source": [
        "schema = pd.read_csv('/content/drive/My Drive/data/survey_results_schema_2019.csv')"
      ],
      "execution_count": null,
      "outputs": []
    },
    {
      "cell_type": "code",
      "metadata": {
        "id": "VUmIh3ZH7VLS"
      },
      "source": [
        "schema"
      ],
      "execution_count": null,
      "outputs": []
    },
    {
      "cell_type": "code",
      "metadata": {
        "id": "_2oCU7KH7VLY"
      },
      "source": [
        "pd.set_option('display.max_rows',85)"
      ],
      "execution_count": null,
      "outputs": []
    },
    {
      "cell_type": "markdown",
      "metadata": {
        "id": "9-drG9U3TwNB"
      },
      "source": [
        "## Basic Pandas Concept Exercises"
      ]
    },
    {
      "cell_type": "code",
      "metadata": {
        "id": "cHHUFbLFTwM9"
      },
      "source": [
        "sales = [100,130,119,92,35]\n",
        "customer_account = ['B100','J101','X102','P103','R104']\n",
        "city = ['BOS','LA','NYC','SF','CHI']"
      ],
      "execution_count": null,
      "outputs": []
    },
    {
      "cell_type": "markdown",
      "metadata": {
        "id": "0VhkInt6TwM8"
      },
      "source": [
        "#### Create a DataFrame with the data above"
      ]
    },
    {
      "cell_type": "code",
      "metadata": {
        "id": "nzUWpWS-TwM6"
      },
      "source": [],
      "execution_count": null,
      "outputs": []
    },
    {
      "cell_type": "markdown",
      "metadata": {
        "id": "tmYB4B32TwMy"
      },
      "source": [
        "#### What is the name of the first column?"
      ]
    },
    {
      "cell_type": "code",
      "metadata": {
        "id": "5Rogy8ehTwMn"
      },
      "source": [],
      "execution_count": null,
      "outputs": []
    },
    {
      "cell_type": "markdown",
      "metadata": {
        "id": "_SA2hdsLTwMl"
      },
      "source": [
        "#### Sort the DataFrame by city in descending order (check the documentation for sort)"
      ]
    },
    {
      "cell_type": "code",
      "metadata": {
        "id": "qpE0t45cTwMY"
      },
      "source": [],
      "execution_count": null,
      "outputs": []
    },
    {
      "cell_type": "markdown",
      "metadata": {
        "id": "tY7HNEUDTwMW"
      },
      "source": [
        "#### Which customer is in the last row of the DataFrame?"
      ]
    },
    {
      "cell_type": "code",
      "metadata": {
        "id": "GWlpTsEYTwL8"
      },
      "source": [],
      "execution_count": null,
      "outputs": []
    },
    {
      "cell_type": "markdown",
      "metadata": {
        "id": "EPMQ69METwLz"
      },
      "source": [
        "#### Reorder the columns with customer in the first column"
      ]
    },
    {
      "cell_type": "code",
      "metadata": {
        "id": "ElacSbWiTwLk"
      },
      "source": [],
      "execution_count": null,
      "outputs": []
    }
  ]
}